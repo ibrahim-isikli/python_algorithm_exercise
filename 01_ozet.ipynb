{
 "cells": [
  {
   "cell_type": "markdown",
   "id": "f9d1fb8e-4bbf-4b71-a816-cf52c1b580ea",
   "metadata": {},
   "source": [
    "GENEL KISA ÖZET"
   ]
  },
  {
   "cell_type": "code",
   "execution_count": 61,
   "id": "323f4708-97e8-4347-9bdf-341a00ae0e5e",
   "metadata": {},
   "outputs": [
    {
     "name": "stdout",
     "output_type": "stream",
     "text": [
      "type of x <class 'int'>\n",
      "type of y <class 'float'>\n",
      "type of z <class 'str'>\n",
      "type of t <class 'str'>\n",
      "type of f <class 'bool'>\n",
      "type of l <class 'list'>\n",
      "type of p <class 'tuple'>\n",
      "type of k <class 'dict'>\n"
     ]
    }
   ],
   "source": [
    "#### variables ####\n",
    "\n",
    "x = 5               # int\n",
    "y = 3.14            # float\n",
    "z = \"Hello\"         # string\n",
    "t = \"c\"             # string (not a char )\n",
    "f = True            # bool\n",
    "l = [12,14,24,567]  # list ( as an array in the C )\n",
    "p = (1,2,4,5)       # tuple ( constat list )\n",
    "k = {               # dictionary ( as an struct in the C )\n",
    "    \"isim\"    : \"ibo\",\n",
    "    \"soyisim\" : \"isikli\",\n",
    "    \"yas\"     : \"24\"\n",
    "}  \n",
    "\n",
    "print(\"type of x {}\".format(type(x)))\n",
    "print(\"type of y {}\".format(type(y)))\n",
    "print(\"type of z {}\".format(type(z)))\n",
    "print(\"type of t {}\".format(type(t)))\n",
    "print(\"type of f {}\".format(type(f)))\n",
    "print(\"type of l {}\".format(type(l)))\n",
    "print(\"type of p {}\".format(type(p)))\n",
    "print(\"typde of k {}\".format(type(k)))\n",
    "\n"
   ]
  },
  {
   "cell_type": "code",
   "execution_count": 29,
   "id": "398a2fcb-b2df-470d-80c7-77d60c04dd7a",
   "metadata": {},
   "outputs": [
    {
     "name": "stdout",
     "output_type": "stream",
     "text": [
      "hello world\n",
      "hello mars\tHello neptun\n",
      "hello moon\n",
      "hello uranus\n",
      "\n",
      "value of int_number = 24 \n",
      "string is = elma karpuz\n",
      "Im ibrahim and 24\n",
      "Im ibrahim and 24\n"
     ]
    }
   ],
   "source": [
    "#### print func ####\n",
    "\n",
    "print(\"hello world\")\n",
    "print(\"hello mars\\tHello neptun\")\n",
    "print(\"hello moon\\nhello uranus\\n\")\n",
    "\n",
    "int_number =24\n",
    "print(\"value of int_number = {} \".format(int_number))\n",
    "\n",
    "str_test = \"elma karpuz\"\n",
    "print(\"string is = {}\".format(str_test))\n",
    "\n",
    "print(\"Im {0} and {1}\".format(\"ibrahim\",24))\n",
    "print(\"Im {name} and {age}\".format(name=\"ibrahim\",age=24))"
   ]
  },
  {
   "cell_type": "code",
   "execution_count": 7,
   "id": "dd1530a7-8c0e-49e1-a56a-b9bb7c29646e",
   "metadata": {},
   "outputs": [
    {
     "name": "stdout",
     "output_type": "stream",
     "text": [
      "Can you tell me yours age ?\n",
      "\n"
     ]
    },
    {
     "name": "stdout",
     "output_type": "stream",
     "text": [
      " 243\n"
     ]
    },
    {
     "name": "stdout",
     "output_type": "stream",
     "text": [
      "answer -> 243\n"
     ]
    }
   ],
   "source": [
    "#### input func ####\n",
    "\n",
    "users_age = 0\n",
    "print(\"Can you tell me yours age ?\\n\")\n",
    "users_age=input()\n",
    "print(\"answer -> {}\".format(users_age))\n"
   ]
  },
  {
   "cell_type": "code",
   "execution_count": 13,
   "id": "730e89c4-c5a2-441f-a724-04c15a3cf46c",
   "metadata": {},
   "outputs": [
    {
     "name": "stdout",
     "output_type": "stream",
     "text": [
      "24\n",
      "23.0\n"
     ]
    }
   ],
   "source": [
    "#### typecasting ####\n",
    "\n",
    "float_value = 24.35\n",
    "convert_int = int(float_value)\n",
    "print(convert_int)\n",
    "\n",
    "int_value = 23\n",
    "convert_float = float(int_value)\n",
    "print(convert_float)"
   ]
  },
  {
   "cell_type": "code",
   "execution_count": 25,
   "id": "873744c1-7cb0-4d98-8790-517ab876a230",
   "metadata": {},
   "outputs": [
    {
     "name": "stdout",
     "output_type": "stream",
     "text": [
      " 24\n"
     ]
    },
    {
     "name": "stdout",
     "output_type": "stream",
     "text": [
      "24 greater than 6\n"
     ]
    }
   ],
   "source": [
    "#### if else elif ####\n",
    "\n",
    "num1 = int(input())\n",
    "\n",
    "if num1 > 6:\n",
    "    print(\"{} greater than 6\".format(num1))\n",
    "elif num1 < 6:\n",
    "    print(\"{} less than 6\".format(num1))\n",
    "else:\n",
    "    print(\"{} equals 6\".format(num1))"
   ]
  },
  {
   "cell_type": "code",
   "execution_count": 59,
   "id": "2844c6b3-d0bf-4dd1-a7b5-fd2d2f7c6db2",
   "metadata": {},
   "outputs": [
    {
     "name": "stdout",
     "output_type": "stream",
     "text": [
      "range(0, 5)\n",
      "0\n",
      "1\n",
      "2\n",
      "3\n",
      "4\n",
      "[0, 1, 2, 3, 4]\n",
      "[0, 2, 4, 6, 8, 10, 12, 14, 16, 18, 20, 22, 24, 26, 28, 30, 32, 34, 36, 38, 40, 42, 44, 46, 48, 50, 52, 54, 56, 58, 60, 62, 64, 66, 68, 70, 72, 74, 76, 78, 80, 82, 84, 86, 88, 90, 92, 94, 96, 98]\n"
     ]
    }
   ],
   "source": [
    "#### range ####\n",
    "\n",
    "print(range(5)) # range(5) = 0 1 2 3 4 \n",
    "\n",
    "print(range(5)[0])\n",
    "print(range(5)[1])\n",
    "print(range(5)[2])\n",
    "print(range(5)[3])\n",
    "print(range(5)[4])\n",
    "\n",
    "# print(range(5)[5]) error\n",
    "\n",
    "# range(5)[3] = 6    error (not support assignment)\n",
    "\n",
    "print( [*range(0,5)]  )\n",
    "print( [*range(0,100,2)]  ) # start,end,two by two"
   ]
  },
  {
   "cell_type": "code",
   "execution_count": 77,
   "id": "c9dbaaf9-8b22-4906-ad73-133bc8849865",
   "metadata": {},
   "outputs": [
    {
     "name": "stdout",
     "output_type": "stream",
     "text": [
      "0\n",
      "1\n",
      "2\n",
      "3\n",
      "4\n",
      "---------------------------------------\n",
      "3\n",
      "4\n",
      "5\n",
      "6\n",
      "7\n",
      "8\n",
      "9\n",
      "---------------------------------------\n",
      "a\n",
      "b\n",
      "c\n",
      "d\n",
      "e\n"
     ]
    }
   ],
   "source": [
    "#### for ####\n",
    "\n",
    "for n in range(5):\n",
    "    print(n)\n",
    "\n",
    "print(\"---------------------------------------\")\n",
    "\n",
    "\n",
    "for m in range(3,10):  \n",
    "    print(m)\n",
    "\n",
    "print(\"---------------------------------------\")\n",
    "\n",
    "list_test = [\"a\",\"b\",\"c\",\"d\",\"e\"]\n",
    "\n",
    "for char_test in list_test:\n",
    "    print(char_test)\n",
    "    "
   ]
  },
  {
   "cell_type": "code",
   "execution_count": 79,
   "id": "5b994f04-5be0-4d11-be36-a5d161eb4225",
   "metadata": {},
   "outputs": [
    {
     "name": "stdout",
     "output_type": "stream",
     "text": [
      "0\n",
      "1\n",
      "2\n",
      "3\n",
      "4\n"
     ]
    }
   ],
   "source": [
    "### while ###\n",
    "\n",
    "i = 0\n",
    "while i<5:\n",
    "    print(i)\n",
    "    i+=1"
   ]
  },
  {
   "cell_type": "code",
   "execution_count": 84,
   "id": "40f8840a-93ec-4033-ad61-cd5e080a2ee5",
   "metadata": {},
   "outputs": [
    {
     "name": "stdout",
     "output_type": "stream",
     "text": [
      " 23\n",
      " 45\n"
     ]
    },
    {
     "name": "stdout",
     "output_type": "stream",
     "text": [
      "sum result : 68.0 \n"
     ]
    }
   ],
   "source": [
    "### func ###\n",
    "\n",
    "def sum(a,b):\n",
    "    return a+b\n",
    "\n",
    "user_num1 = float(input())\n",
    "user_num2 = float(input())\n",
    "\n",
    "print(\"sum result : {} \".format(sum(user_num1,user_num2)))\n"
   ]
  },
  {
   "cell_type": "code",
   "execution_count": 1,
   "id": "fe0b449d-fbc8-415f-b292-af5831acbd70",
   "metadata": {},
   "outputs": [],
   "source": [
    "# test deneme 1 2 3"
   ]
  },
  {
   "cell_type": "code",
   "execution_count": null,
   "id": "d3023b50-906e-4b7a-9498-87214cbf4835",
   "metadata": {},
   "outputs": [],
   "source": []
  }
 ],
 "metadata": {
  "kernelspec": {
   "display_name": "Python 3 (ipykernel)",
   "language": "python",
   "name": "python3"
  },
  "language_info": {
   "codemirror_mode": {
    "name": "ipython",
    "version": 3
   },
   "file_extension": ".py",
   "mimetype": "text/x-python",
   "name": "python",
   "nbconvert_exporter": "python",
   "pygments_lexer": "ipython3",
   "version": "3.12.4"
  }
 },
 "nbformat": 4,
 "nbformat_minor": 5
}

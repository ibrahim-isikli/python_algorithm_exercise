{
 "cells": [
  {
   "cell_type": "markdown",
   "id": "6e20a9a6-26a8-4b41-af58-b4515c5c9c12",
   "metadata": {},
   "source": [
    "# BASİT VE TEMEL ALGORİTMALAR"
   ]
  },
  {
   "cell_type": "markdown",
   "id": "d165f142-9f5e-45b9-8a2b-2affd7ea0120",
   "metadata": {},
   "source": [
    "Klavyeden girilen iki sayıyı toplayan ve sonucu ekranda gösteren python kodunu yazınız."
   ]
  },
  {
   "cell_type": "code",
   "execution_count": 1,
   "id": "a888517d-246e-43ef-851d-581da321b5ac",
   "metadata": {},
   "outputs": [
    {
     "name": "stdin",
     "output_type": "stream",
     "text": [
      "Lutfen birinci sayiyi girin 43\n",
      "Lutfen ikinci sayiyi girin 23\n"
     ]
    },
    {
     "name": "stdout",
     "output_type": "stream",
     "text": [
      "43.0 + 23.0 = 66.0\n"
     ]
    }
   ],
   "source": [
    "sayi1 = float(input(\"Lutfen birinci sayiyi girin\"))\n",
    "sayi2 = float(input(\"Lutfen ikinci sayiyi girin\"))\n",
    "print(\"{} + {} = {}\".format(sayi1,sayi2,sayi1+sayi2))"
   ]
  },
  {
   "cell_type": "markdown",
   "id": "3764bd49-38c9-4018-b194-6afd9b91c790",
   "metadata": {},
   "source": [
    "Klavyeden girilen iki sayının ortalamasını bulan ve sonucu ekranda gösteren python kodunu yazınız."
   ]
  },
  {
   "cell_type": "code",
   "execution_count": 13,
   "id": "21ae123e-3e1c-4611-8722-269f0fccf16e",
   "metadata": {},
   "outputs": [
    {
     "name": "stdin",
     "output_type": "stream",
     "text": [
      "Lutfen 1. notu girin 2.34\n",
      "Lutfen 2. notu girin 4.32\n"
     ]
    },
    {
     "name": "stdout",
     "output_type": "stream",
     "text": [
      "ortalamaniz : {} 3.33\n"
     ]
    }
   ],
   "source": [
    "not1 = float(input(\"Lutfen 1. notu girin\"))\n",
    "not2 = float(input(\"Lutfen 2. notu girin\"))\n",
    "ortalama  = (not1+not2)/2\n",
    "print(\"ortalamaniz : {}\",ortalama)"
   ]
  },
  {
   "cell_type": "markdown",
   "id": "6d74a1c5-6974-49b0-a2a7-518035e32086",
   "metadata": {},
   "source": [
    "Klavyeden girilen vize ve final notuna göre vizenin %40 ve finalin %60’ını alan ve sonucu ekranda gösteren python kodunu yazınız."
   ]
  },
  {
   "cell_type": "code",
   "execution_count": 16,
   "id": "1b80f7e3-6b33-46ca-8641-80cc312cd3fe",
   "metadata": {},
   "outputs": [
    {
     "name": "stdin",
     "output_type": "stream",
     "text": [
      "vize notunuzu girin 80\n",
      "final notunuzu girin 50\n"
     ]
    },
    {
     "name": "stdout",
     "output_type": "stream",
     "text": [
      "ders notu : 62.0\n"
     ]
    }
   ],
   "source": [
    "vize = float(input(\"vize notunuzu girin\"))\n",
    "final = float(input(\"final notunuzu girin\"))\n",
    "sonuc = ( 0.4 * vize ) + (0.6 * final)\n",
    "print(\"ders notu : {}\".format(sonuc))"
   ]
  },
  {
   "cell_type": "markdown",
   "id": "d2159c7c-0879-46b6-b144-613c4a075dfe",
   "metadata": {},
   "source": [
    "Klavyeden girilen üç yazılı notunun ortalamasını bulan ekranda gösteren python kodunu yazınız."
   ]
  },
  {
   "cell_type": "code",
   "execution_count": 27,
   "id": "3449cf4a-1b57-42f1-b4fd-843fc20dd1f2",
   "metadata": {},
   "outputs": [
    {
     "name": "stdin",
     "output_type": "stream",
     "text": [
      "yazili1 notunuzu girin 10\n",
      "yazili2 notunuzu girin 50\n",
      "yazili3 notunuzu girin 80\n"
     ]
    },
    {
     "name": "stdout",
     "output_type": "stream",
     "text": [
      "ortalama : {} 46.666666666666664\n"
     ]
    }
   ],
   "source": [
    "yazili1, yazili2, yazili3 = float(input(\"yazili1 notunuzu girin\")),float(input(\"yazili2 notunuzu girin\")) ,float(input(\"yazili3 notunuzu girin\"))\n",
    "ortalama = (yazili1+yazili2+yazili3)/3\n",
    "print(\"ortalama : {}\",ortalama)"
   ]
  },
  {
   "cell_type": "markdown",
   "id": "bd4f27b9-339b-48e7-8468-fca16fdd54f1",
   "metadata": {},
   "source": [
    "Bir dersin ortalaması girilen öğrencinin o dersten geçip geçmediğini gösteren python kodunu yazınız. (50’den büyükse geçti değilse kaldı yazdıran örnek python kodu)"
   ]
  },
  {
   "cell_type": "code",
   "execution_count": 34,
   "id": "6d8addbe-9494-42e8-8807-39840b03d2f6",
   "metadata": {},
   "outputs": [
    {
     "name": "stdin",
     "output_type": "stream",
     "text": [
      "ders ortalamanizi giriniz 78\n"
     ]
    },
    {
     "name": "stdout",
     "output_type": "stream",
     "text": [
      "dersten gecitinz\n"
     ]
    }
   ],
   "source": [
    "ortalama = float(input(\"ders ortalamanizi giriniz\"))\n",
    "if(ortalama>=50):\n",
    "    print(\"dersten gecitinz\")\n",
    "else:\n",
    "    print(\"dersten kaldiniz\")"
   ]
  },
  {
   "cell_type": "markdown",
   "id": "a3318e8e-42cf-4267-90bd-59f1f77d168c",
   "metadata": {},
   "source": [
    "Klavyeden girilen sayının tek mi çift mi olduğunu yazdıran python kod örneğini yapınız."
   ]
  },
  {
   "cell_type": "code",
   "execution_count": 37,
   "id": "043c3be2-c674-4414-acca-6323742a5780",
   "metadata": {},
   "outputs": [
    {
     "name": "stdin",
     "output_type": "stream",
     "text": [
      "bir sayi girin 48\n"
     ]
    },
    {
     "name": "stdout",
     "output_type": "stream",
     "text": [
      "cift\n"
     ]
    }
   ],
   "source": [
    "sayi = int(input(\"bir sayi girin\"))\n",
    "\n",
    "if (sayi%2==0):\n",
    "    print(\"cift\")\n",
    "else:\n",
    "    print(\"tek\")"
   ]
  },
  {
   "cell_type": "markdown",
   "id": "0328979a-b559-4dd0-a8ec-6dfac77002b1",
   "metadata": {},
   "source": [
    "Klavyeden girilen sayının pozitif mi negatif mi yoksa sıfır mı olduğunu bulan python kodunu yazınız."
   ]
  },
  {
   "cell_type": "code",
   "execution_count": 42,
   "id": "d1e6851c-a45f-4027-a229-440465cbbf1f",
   "metadata": {},
   "outputs": [
    {
     "name": "stdin",
     "output_type": "stream",
     "text": [
      "bir sayi girin 23\n"
     ]
    },
    {
     "name": "stdout",
     "output_type": "stream",
     "text": [
      "pozitif\n"
     ]
    }
   ],
   "source": [
    "sayi = int(input(\"bir sayi girin\"))\n",
    "\n",
    "if (sayi<0):\n",
    "    print(\"negatif\")\n",
    "elif(sayi>0):\n",
    "    print(\"pozitif\")\n",
    "else:\n",
    "    print(\"sayi 0\")"
   ]
  },
  {
   "cell_type": "markdown",
   "id": "dd3a63c9-a0b1-4ee3-bf11-7d326354bbf5",
   "metadata": {},
   "source": [
    "1 den 10 a kadar olan sayıları alt alta yazdıran python kodunu yazınız."
   ]
  },
  {
   "cell_type": "code",
   "execution_count": 47,
   "id": "d27d324b-a60b-4fb7-af8a-4fdb802c4e5e",
   "metadata": {},
   "outputs": [
    {
     "name": "stdout",
     "output_type": "stream",
     "text": [
      "0\n",
      "1\n",
      "2\n",
      "3\n",
      "4\n",
      "5\n",
      "6\n",
      "7\n",
      "8\n",
      "9\n"
     ]
    }
   ],
   "source": [
    "for i in range(10):\n",
    "    print(i)"
   ]
  },
  {
   "cell_type": "markdown",
   "id": "d5b33973-c4e4-4385-b7b3-a9cdb9b24534",
   "metadata": {},
   "source": [
    "1 den 20’ye kadar olan tek sayıları alt alta yazdıran python kodunu yazınız."
   ]
  },
  {
   "cell_type": "code",
   "execution_count": 50,
   "id": "581606ef-a201-47d2-9309-9b179e51d4a0",
   "metadata": {},
   "outputs": [
    {
     "name": "stdout",
     "output_type": "stream",
     "text": [
      "1\n",
      "3\n",
      "5\n",
      "7\n",
      "9\n",
      "11\n",
      "13\n",
      "15\n",
      "17\n",
      "19\n"
     ]
    }
   ],
   "source": [
    "for i in range(20):\n",
    "    if(i%2==0):\n",
    "        continue\n",
    "    print(i)"
   ]
  },
  {
   "cell_type": "markdown",
   "id": "9092d5ff-b2ae-40bb-9d17-3627206561af",
   "metadata": {},
   "source": [
    "1 den 100 e kadar olan sayılardan aynı anda 3 ve 5 e tam bölünen sayıları alt alta yazdıran python kodunu yazınız."
   ]
  },
  {
   "cell_type": "code",
   "execution_count": 59,
   "id": "cec99a6c-1aa5-401a-9338-dff7ad9e423d",
   "metadata": {},
   "outputs": [
    {
     "name": "stdout",
     "output_type": "stream",
     "text": [
      "15\n",
      "30\n",
      "45\n",
      "60\n",
      "75\n",
      "90\n"
     ]
    }
   ],
   "source": [
    "for i in range(1,100):\n",
    "    if(i%15==0):\n",
    "        print(i)"
   ]
  },
  {
   "cell_type": "markdown",
   "id": "37de41d0-82a7-4538-a584-8fd4d3466868",
   "metadata": {},
   "source": [
    "Klavyeden girilen sayıya kadar olan sayıları alt alta yazdıran python kodunu yazınız."
   ]
  },
  {
   "cell_type": "code",
   "execution_count": 64,
   "id": "ba7367fd-31ba-493e-be0c-3b6b33fadf57",
   "metadata": {},
   "outputs": [
    {
     "name": "stdin",
     "output_type": "stream",
     "text": [
      "baslangic: 1\n",
      "bitis: 20\n"
     ]
    },
    {
     "name": "stdout",
     "output_type": "stream",
     "text": [
      "1\n",
      "2\n",
      "3\n",
      "4\n",
      "5\n",
      "6\n",
      "7\n",
      "8\n",
      "9\n",
      "10\n",
      "11\n",
      "12\n",
      "13\n",
      "14\n",
      "15\n",
      "16\n",
      "17\n",
      "18\n",
      "19\n"
     ]
    }
   ],
   "source": [
    "baslangic=int(input(\"baslangic:\"))\n",
    "bitis=int(input(\"bitis:\"))\n",
    "\n",
    "for i in range(baslangic,bitis):\n",
    "    print(i)"
   ]
  },
  {
   "cell_type": "markdown",
   "id": "8dfe38d7-bc52-4d83-afc4-a81df90d94a0",
   "metadata": {},
   "source": [
    " Klavyeden kısa kenar uzunluğu ve uzun kenar uzunluğu girilen dikdörtgenin alan ve çevresini hesaplayan python kodunu yazınız."
   ]
  },
  {
   "cell_type": "code",
   "execution_count": 67,
   "id": "4eb478fb-2d29-4396-b9aa-8c3488354455",
   "metadata": {},
   "outputs": [
    {
     "name": "stdin",
     "output_type": "stream",
     "text": [
      "uzun kenar: 20\n",
      "kisa kenar: 10\n"
     ]
    },
    {
     "name": "stdout",
     "output_type": "stream",
     "text": [
      "alan: 200.0\n",
      "cevre: 60.0\n"
     ]
    }
   ],
   "source": [
    "uzun_kenar = float(input(\"uzun kenar:\"))\n",
    "kisa_kenar = float(input(\"kisa kenar:\"))\n",
    "\n",
    "print(\"alan: {}\".format(uzun_kenar*kisa_kenar))\n",
    "print(\"cevre: {}\".format((uzun_kenar+kisa_kenar)*2))"
   ]
  },
  {
   "cell_type": "markdown",
   "id": "fb947996-3066-418b-9c64-7b6fb3822b53",
   "metadata": {},
   "source": [
    "Klavyeden girilen bir metnin harflerini alt alta yazdıran python kodunu yazınız."
   ]
  },
  {
   "cell_type": "code",
   "execution_count": 72,
   "id": "d514dc67-bee7-4bb0-bac4-de2a047a068a",
   "metadata": {},
   "outputs": [
    {
     "name": "stdin",
     "output_type": "stream",
     "text": [
      "kelime girin: bakircay\n"
     ]
    },
    {
     "name": "stdout",
     "output_type": "stream",
     "text": [
      "b\n",
      "a\n",
      "k\n",
      "i\n",
      "r\n",
      "c\n",
      "a\n",
      "y\n"
     ]
    }
   ],
   "source": [
    "kelime = str(input(\"kelime girin:\"))\n",
    "\n",
    "for harf in kelime:\n",
    "    print(harf)"
   ]
  },
  {
   "cell_type": "markdown",
   "id": "f3deabd3-92ac-45eb-bb14-d0ee57de6fc7",
   "metadata": {},
   "source": [
    "Klavyeden girilen iki sayı arasındaki sayıları toplayan python kodunu yazınız."
   ]
  },
  {
   "cell_type": "code",
   "execution_count": 77,
   "id": "deb6df3d-6687-4b4f-a836-beabb5b84598",
   "metadata": {},
   "outputs": [
    {
     "name": "stdin",
     "output_type": "stream",
     "text": [
      "baslangic 1\n",
      "bitis 10\n"
     ]
    },
    {
     "name": "stdout",
     "output_type": "stream",
     "text": [
      "44\n"
     ]
    }
   ],
   "source": [
    "baslangic = int(input(\"baslangic\"))\n",
    "bitis = int(input(\"bitis\"))\n",
    "\n",
    "toplam = 0\n",
    "\n",
    "for i in range(baslangic+1,bitis):\n",
    "    toplam = toplam + i\n",
    "\n",
    "print(toplam)\n",
    "    "
   ]
  },
  {
   "cell_type": "markdown",
   "id": "69747d11-23c5-4fc3-933d-b9ed73aacd7e",
   "metadata": {},
   "source": [
    "Klavyeden girilen sayının asal sayı olup olmadığını bulan python kodunu yazınız."
   ]
  },
  {
   "cell_type": "code",
   "execution_count": 9,
   "id": "e3586ba9-c1d7-496f-9249-2318261e846a",
   "metadata": {},
   "outputs": [
    {
     "name": "stdin",
     "output_type": "stream",
     "text": [
      "sayi giriniz: 11\n"
     ]
    },
    {
     "name": "stdout",
     "output_type": "stream",
     "text": [
      "sayi asaldir\n"
     ]
    }
   ],
   "source": [
    "\n",
    "sayi = int(input(\"sayi giriniz:\"))\n",
    "counter = 0\n",
    "\n",
    "for i in range(2,sayi):\n",
    "    if(sayi%i==0):\n",
    "        counter+=1\n",
    "\n",
    "if(counter == 0):\n",
    "    print(\"sayi asaldir\")\n",
    "else:\n",
    "    print(\"sayi asal degildir\")\n",
    "        \n",
    "\n"
   ]
  },
  {
   "cell_type": "markdown",
   "id": "ef85464d-7351-4221-ad05-9337ac3ee6c9",
   "metadata": {},
   "source": [
    "Klavyeden girilen sayıya kadar olan sayılardan tek sayıların toplamını ve çift sayıların toplamını ayrı ayrı bulan python kodunu yazınız."
   ]
  },
  {
   "cell_type": "code",
   "execution_count": 12,
   "id": "05c8b2e5-fb3b-4dfe-b562-4530783e9411",
   "metadata": {},
   "outputs": [
    {
     "name": "stdin",
     "output_type": "stream",
     "text": [
      "sayi girin 10\n"
     ]
    },
    {
     "name": "stdout",
     "output_type": "stream",
     "text": [
      "teklerin toplami 25\n",
      "ciftlerin toplami 20\n"
     ]
    }
   ],
   "source": [
    "sayi = int(input(\"sayi girin\"))\n",
    "cift_toplam = 0\n",
    "tek_toplam = 0\n",
    "\n",
    "for i in range (0,sayi):\n",
    "    if(i%2 == 0):\n",
    "        cift_toplam += i\n",
    "    else:\n",
    "        tek_toplam +=i\n",
    "\n",
    "print(\"teklerin toplami {}\".format(tek_toplam))\n",
    "print(\"ciftlerin toplami {}\".format(cift_toplam))"
   ]
  },
  {
   "cell_type": "markdown",
   "id": "1cb75d94-c06e-4088-8577-232d507f7112",
   "metadata": {},
   "source": [
    "Klavyeden maaşı ve zam oranı girilen kişinin zamlı maaşını hesaplayan python kodunu yazınız."
   ]
  },
  {
   "cell_type": "code",
   "execution_count": 19,
   "id": "4106a27f-e0b8-4d86-bdae-3ddfd35caec0",
   "metadata": {},
   "outputs": [
    {
     "name": "stdin",
     "output_type": "stream",
     "text": [
      "maasinizi giriniz 200\n",
      "yuzdelik zam oranini giriniz 20\n"
     ]
    },
    {
     "name": "stdout",
     "output_type": "stream",
     "text": [
      "yeni maasiniz : 240.0\n"
     ]
    }
   ],
   "source": [
    "maas = float(input(\"maasinizi giriniz\"))\n",
    "zam_orani = float(input(\"yuzdelik zam oranini giriniz\"))\n",
    "\n",
    "yeni_maas = maas + (zam_orani/100)*maas\n",
    "print(\"yeni maasiniz :\",yeni_maas)"
   ]
  },
  {
   "cell_type": "markdown",
   "id": "d9dc631e-a8b0-4a14-a974-29558e4ed14f",
   "metadata": {},
   "source": [
    " Klavyeden yarıçapı girilen dairenin çevresini ve alanını hesaplayan python kodunu yazınız."
   ]
  },
  {
   "cell_type": "code",
   "execution_count": 28,
   "id": "4031ac48-81dc-4911-8e93-a82095bbdd45",
   "metadata": {},
   "outputs": [
    {
     "name": "stdin",
     "output_type": "stream",
     "text": [
      "dairenin yaricapini girin 25\n"
     ]
    },
    {
     "name": "stdout",
     "output_type": "stream",
     "text": [
      "cevre: 157.0 \t alan: 1962.5\n"
     ]
    }
   ],
   "source": [
    "yari_cap = float(input(\"dairenin yaricapini girin\"))\n",
    "cevre = 2 * 3.14 * yari_cap\n",
    "alan = 3.14 * (yari_cap) * (yari_cap)\n",
    "\n",
    "print(\"cevre: {} \\t alan: {}\".format(cevre,alan))"
   ]
  },
  {
   "cell_type": "markdown",
   "id": "dc197860-5df3-4afa-9c7c-a8b9cd2d5704",
   "metadata": {},
   "source": [
    " Klavyeden kısa kenar ve uzun kenar uzunluğu girilen dikdörtgenin alanını fonksiyon kullanarak hesaplayan python kodunu yazınız."
   ]
  },
  {
   "cell_type": "code",
   "execution_count": 31,
   "id": "1faee596-b539-4a2e-ab9c-9583bb753384",
   "metadata": {},
   "outputs": [
    {
     "name": "stdin",
     "output_type": "stream",
     "text": [
      "uzun kenar: 20\n",
      "kisa kenar: 25.5\n"
     ]
    },
    {
     "name": "stdout",
     "output_type": "stream",
     "text": [
      "Alan: 510.0\n"
     ]
    }
   ],
   "source": [
    "def alan_hesabi(genislik,yukseklik):\n",
    "    return (genislik*yukseklik)\n",
    "\n",
    "uzun_kenar = float(input(\"uzun kenar:\"))\n",
    "kisa_kenar = float(input(\"kisa kenar:\"))\n",
    "\n",
    "print(\"Alan: {}\".format(alan_hesabi(uzun_kenar,kisa_kenar)))"
   ]
  },
  {
   "cell_type": "markdown",
   "id": "68a717ec-2cb4-4367-b30c-83b9f84d0c11",
   "metadata": {},
   "source": [
    " Önceden belirlenen bir liste içerisinde bulunan sayılardan kaç tanesinin 5’in katı olduğunu bulan python kodunu yazınız."
   ]
  },
  {
   "cell_type": "code",
   "execution_count": 41,
   "id": "690081bd-9cd8-47be-98c3-ba92d90a482f",
   "metadata": {},
   "outputs": [
    {
     "name": "stdout",
     "output_type": "stream",
     "text": [
      "-> 15\n",
      "-> 85\n",
      "-> 65\n",
      "-> 30\n",
      "-> 95\n",
      "-> 10\n",
      "-> 20\n",
      "-> 55\n",
      "-> 5\n",
      "result: 9\n"
     ]
    }
   ],
   "source": [
    "sayilar = [18,15,22,19,85,32,65,30,95,10,12,20,32,55,34,28,101,5,4,32]\n",
    "cnt = 0\n",
    "\n",
    "for i in sayilar:\n",
    "    if(i%5==0):\n",
    "        print(\"->\",i)\n",
    "        cnt+=1\n",
    "\n",
    "print(\"result:\",cnt)\n",
    "        "
   ]
  },
  {
   "cell_type": "markdown",
   "id": "a05abdf5-2a8a-44f4-8843-667d224bd6de",
   "metadata": {},
   "source": [
    " Klavyeden girilen başlangıç ve bitiş sayıları arasında bulunan çift sayıların ortalamasını bulan python kodunu yazınız.\n"
   ]
  },
  {
   "cell_type": "code",
   "execution_count": 44,
   "id": "e8791b37-75eb-4683-82b5-dc4bf8a83c75",
   "metadata": {},
   "outputs": [
    {
     "name": "stdin",
     "output_type": "stream",
     "text": [
      "baslangic sayisini giriniz:  15\n",
      "bitis sayisini giriniz:  45\n"
     ]
    },
    {
     "name": "stdout",
     "output_type": "stream",
     "text": [
      "sonuc:  30.0\n"
     ]
    }
   ],
   "source": [
    "baslangic = int(input(\"baslangic sayisini giriniz: \"))\n",
    "bitis = int(input(\"bitis sayisini giriniz: \"))\n",
    "\n",
    "toplam=0\n",
    "cnt=0\n",
    "\n",
    "for i in range(baslangic,bitis+1):\n",
    "    if(i%2==0):\n",
    "        toplam += i;\n",
    "        cnt +=1\n",
    "\n",
    "print(\"sonuc: \",toplam/cnt)\n",
    "    "
   ]
  },
  {
   "cell_type": "markdown",
   "id": "4609639b-dc36-4f55-9297-85b00906cd5c",
   "metadata": {},
   "source": [
    "Klavyeden girilen başlangıç ve bitiş sayıları arasında bulunan tek sayıların ortalamasını bulan python kodunu yazınız."
   ]
  },
  {
   "cell_type": "code",
   "execution_count": 47,
   "id": "ad916e23-a3a8-47d7-a92d-b68f3e68eb1a",
   "metadata": {},
   "outputs": [
    {
     "name": "stdin",
     "output_type": "stream",
     "text": [
      "baslangic sayisini giriniz:  50\n",
      "bitis sayisini giriniz:  98\n"
     ]
    },
    {
     "name": "stdout",
     "output_type": "stream",
     "text": [
      "sonuc:  74.0\n"
     ]
    }
   ],
   "source": [
    "baslangic = int(input(\"baslangic sayisini giriniz: \"))\n",
    "bitis = int(input(\"bitis sayisini giriniz: \"))\n",
    "\n",
    "toplam=0\n",
    "cnt=0\n",
    "\n",
    "for i in range(baslangic,bitis+1):\n",
    "    if(i%2==1):\n",
    "        toplam += i;\n",
    "        cnt +=1\n",
    "\n",
    "print(\"sonuc: \",toplam/cnt)\n",
    "    "
   ]
  },
  {
   "cell_type": "markdown",
   "id": "02b30ce3-d36e-41fe-a6ce-4bcca0ce8a1e",
   "metadata": {},
   "source": [
    "Klavyeden girilen başlangıç ve bitiş sayıları arasında bulunan sayıların ortalamasını bulan python kodunu yazınız."
   ]
  },
  {
   "cell_type": "code",
   "execution_count": 50,
   "id": "f82ad4e1-3144-488a-8633-7746bb294aa7",
   "metadata": {},
   "outputs": [
    {
     "name": "stdin",
     "output_type": "stream",
     "text": [
      "baslangic sayisini giriniz:  35\n",
      "bitis sayisini giriniz:  84\n"
     ]
    },
    {
     "name": "stdout",
     "output_type": "stream",
     "text": [
      "sonuc:  59.5\n"
     ]
    }
   ],
   "source": [
    "baslangic = int(input(\"baslangic sayisini giriniz: \"))\n",
    "bitis = int(input(\"bitis sayisini giriniz: \"))\n",
    "\n",
    "toplam=0\n",
    "cnt=0\n",
    "\n",
    "for i in range(baslangic,bitis+1):\n",
    "        toplam += i;\n",
    "        cnt +=1\n",
    "\n",
    "print(\"sonuc: \",toplam/cnt)\n",
    "    "
   ]
  },
  {
   "cell_type": "markdown",
   "id": "b16b6306-434a-4ac7-896e-eec8621264be",
   "metadata": {},
   "source": [
    "Klavyeden girilen başlangıç ve bitiş sayıları arasında bulunan sayıların toplamını bulan python kodunu yazınız."
   ]
  },
  {
   "cell_type": "code",
   "execution_count": 53,
   "id": "0200a905-8967-4d9e-bc02-fe1e7ae37030",
   "metadata": {},
   "outputs": [
    {
     "name": "stdin",
     "output_type": "stream",
     "text": [
      "baslangic sayisini giriniz:  60\n",
      "bitis sayisini giriniz:  94\n"
     ]
    },
    {
     "name": "stdout",
     "output_type": "stream",
     "text": [
      "toplam:  2695\n"
     ]
    }
   ],
   "source": [
    "baslangic = int(input(\"baslangic sayisini giriniz: \"))\n",
    "bitis = int(input(\"bitis sayisini giriniz: \"))\n",
    "\n",
    "toplam=0\n",
    "\n",
    "for i in range(baslangic,bitis+1):\n",
    "        toplam += i;\n",
    "\n",
    "print(\"toplam: \",toplam)"
   ]
  },
  {
   "cell_type": "markdown",
   "id": "cc15c8d4-4b0e-4119-9831-02301270201d",
   "metadata": {},
   "source": [
    " Klavyeden girilen başlangıç ve bitiş sayıları arasında bulunan çift sayıların toplamını bulan python kodunu yazınız.\n"
   ]
  },
  {
   "cell_type": "code",
   "execution_count": 62,
   "id": "91109622-6a98-4fd4-a954-00b0d55b8442",
   "metadata": {},
   "outputs": [
    {
     "name": "stdin",
     "output_type": "stream",
     "text": [
      "baslangic girin 1\n",
      "bitis girin 10\n"
     ]
    },
    {
     "name": "stdout",
     "output_type": "stream",
     "text": [
      "30\n"
     ]
    }
   ],
   "source": [
    "baslangic = int(input(\"baslangic girin\"))\n",
    "bitis = int(input(\"bitis girin\"))\n",
    "toplam = 0\n",
    "\n",
    "for i in range(baslangic,bitis+1):\n",
    "    if(i%2==0):\n",
    "        toplam += i\n",
    "\n",
    "print(toplam)"
   ]
  },
  {
   "cell_type": "markdown",
   "id": "a2d0aca3-08f7-43bd-a57f-d0899e2b3ed8",
   "metadata": {},
   "source": [
    "Klavyeden girilen başlangıç ve bitiş sayıları arasında bulunan tek sayıların toplamını bulan python kodunu yazınız."
   ]
  },
  {
   "cell_type": "code",
   "execution_count": 65,
   "id": "56795141-f6b7-44dd-a3ee-fd17612d4acf",
   "metadata": {},
   "outputs": [
    {
     "name": "stdin",
     "output_type": "stream",
     "text": [
      "baslangic girin 5\n",
      "bitis girin 10\n"
     ]
    },
    {
     "name": "stdout",
     "output_type": "stream",
     "text": [
      "21\n"
     ]
    }
   ],
   "source": [
    "baslangic = int(input(\"baslangic girin\"))\n",
    "bitis = int(input(\"bitis girin\"))\n",
    "toplam = 0\n",
    "\n",
    "for i in range(baslangic,bitis+1):\n",
    "    if(i%2==1):\n",
    "        toplam += i\n",
    "\n",
    "print(toplam)"
   ]
  },
  {
   "cell_type": "markdown",
   "id": "7e63e74b-9fd6-4e94-ad9a-d7a21f1180e8",
   "metadata": {},
   "source": [
    "Klavyeden girilen üç yazılı notunun ortalamasını bulan python kodunu yazınız."
   ]
  },
  {
   "cell_type": "code",
   "execution_count": 95,
   "id": "5c0f33c4-9d7d-4374-860e-8551fbba2e12",
   "metadata": {},
   "outputs": [
    {
     "name": "stdin",
     "output_type": "stream",
     "text": [
      "not 1 girin 10\n",
      "not 2 girin 20\n",
      "not 3 girin 30\n"
     ]
    },
    {
     "name": "stdout",
     "output_type": "stream",
     "text": [
      "ortlama : 20.0\n"
     ]
    }
   ],
   "source": [
    "not1,not2,not3 = float(input(\"not 1 girin\")),float(input(\"not 2 girin\")),float(input(\"not 3 girin\"))\n",
    "print(\"ortlama : {}\".format((not1+not2+not3)/3))"
   ]
  },
  {
   "cell_type": "markdown",
   "id": "27b35d1e-7c72-4c7d-b96a-277313114b76",
   "metadata": {},
   "source": [
    "Örnek :Bir otoparkın ücret tarifesi aşağıdaki gibidir:\r\n",
    "\r\n",
    "1 saate kadar: 10 \n",
    "TL\r\n",
    "1-5 saat arası: Saat başı 8\n",
    " TL\r\n",
    "5 saatten fazla: Saat başı \n",
    "6 TL\r\n",
    "Buna göre kullanıcının girdiği otoparkta kalınan saat süresine göre ödenecek miktarı bularak ekrana yazdırınız."
   ]
  },
  {
   "cell_type": "code",
   "execution_count": 102,
   "id": "29902c43-4143-491b-9fd8-faebf1ae5782",
   "metadata": {},
   "outputs": [
    {
     "name": "stdin",
     "output_type": "stream",
     "text": [
      "kac saat kaldiniz 7\n"
     ]
    },
    {
     "name": "stdout",
     "output_type": "stream",
     "text": [
      "ucret:  42\n"
     ]
    }
   ],
   "source": [
    "kalinan_saat = int(input(\"kac saat kaldiniz\"))\n",
    "tarife = 0\n",
    "if(kalinan_saat<=1):\n",
    "    tarife = 10\n",
    "elif(1<kalinan_saat<=5):\n",
    "    tarife = 8\n",
    "else:\n",
    "    tarife = 6\n",
    "\n",
    "print(\"ucret: \",tarife*kalinan_saat)"
   ]
  },
  {
   "cell_type": "markdown",
   "id": "ca2cb63a-2ba9-46ac-8827-50e0d3f7b79f",
   "metadata": {},
   "source": [
    "Klavyeden girilen bir ifadeyi ekrana 10 defa yazdıran python kodunu yazınız."
   ]
  },
  {
   "cell_type": "code",
   "execution_count": 105,
   "id": "f2ce44f9-c7db-4c94-8ce4-7086bfd5d60b",
   "metadata": {},
   "outputs": [
    {
     "name": "stdin",
     "output_type": "stream",
     "text": [
      "cumle girin bu bir deneme yayinidir\n"
     ]
    },
    {
     "name": "stdout",
     "output_type": "stream",
     "text": [
      "bu bir deneme yayinidir\n",
      "bu bir deneme yayinidir\n",
      "bu bir deneme yayinidir\n",
      "bu bir deneme yayinidir\n",
      "bu bir deneme yayinidir\n",
      "bu bir deneme yayinidir\n",
      "bu bir deneme yayinidir\n",
      "bu bir deneme yayinidir\n",
      "bu bir deneme yayinidir\n",
      "bu bir deneme yayinidir\n"
     ]
    }
   ],
   "source": [
    "cumle = input(\"cumle girin\")\n",
    "for i in range(10):\n",
    "    print(cumle)"
   ]
  },
  {
   "cell_type": "markdown",
   "id": "2010755e-84e1-4787-8c78-f3136e70d7b4",
   "metadata": {},
   "source": [
    "Klavyeden girilen bir ifadeyi klavyeden girilen bir sayı kadar ekrana yazdıran python kodunu yazınız."
   ]
  },
  {
   "cell_type": "code",
   "execution_count": 114,
   "id": "90134890-e2a7-425f-966b-2cb9afc79e59",
   "metadata": {},
   "outputs": [
    {
     "name": "stdin",
     "output_type": "stream",
     "text": [
      "cumle girin:  deneme\n",
      "tekrar sayisi girin:  4\n"
     ]
    },
    {
     "name": "stdout",
     "output_type": "stream",
     "text": [
      "deneme\n",
      "deneme\n",
      "deneme\n",
      "deneme\n"
     ]
    }
   ],
   "source": [
    "cumle = input(\"cumle girin: \")\n",
    "tekrar = int(input(\"tekrar sayisi girin: \"))\n",
    "for i in range(tekrar):\n",
    "    print(cumle)"
   ]
  },
  {
   "cell_type": "markdown",
   "id": "4702c12e-de9e-45c5-a3aa-72aa64e7af3e",
   "metadata": {},
   "source": [
    "Klavyeden aralarına virgül konularak yazılan tüm sayıları toplayan python kodunu yazınız."
   ]
  },
  {
   "cell_type": "code",
   "execution_count": 117,
   "id": "60086f2e-8654-4d0c-ab95-e3c6ea7ea4c0",
   "metadata": {},
   "outputs": [
    {
     "name": "stdin",
     "output_type": "stream",
     "text": [
      "virgul ile sayilari giriniz 2,5,34,61\n"
     ]
    },
    {
     "name": "stdout",
     "output_type": "stream",
     "text": [
      "girilen sayilar: 2,5,34,61\n",
      "toplam:  102\n"
     ]
    }
   ],
   "source": [
    "numaralar = input(\"virgul ile sayilari giriniz\")\n",
    "print(\"girilen sayilar: {}\".format(numaralar))\n",
    "\n",
    "numaralarArr = numaralar.split(\",\")\n",
    "toplam = 0\n",
    "\n",
    "for n in numaralarArr:\n",
    "    toplam += int(n)\n",
    "\n",
    "print(\"toplam: \",toplam)"
   ]
  },
  {
   "cell_type": "markdown",
   "id": "e7a27630-83ef-49c4-b93b-1fde7afb5ffb",
   "metadata": {},
   "source": [
    "Klavyeden aralarına virgül konularak yazılan tüm sayıların ortalamasını hesaplayan python kodunu yazınız."
   ]
  },
  {
   "cell_type": "code",
   "execution_count": 137,
   "id": "30b2c96d-0783-45ab-ad25-cd79d5d9374f",
   "metadata": {},
   "outputs": [
    {
     "name": "stdin",
     "output_type": "stream",
     "text": [
      "virgul ile sayilari giriniz 2,5,34,61\n"
     ]
    },
    {
     "name": "stdout",
     "output_type": "stream",
     "text": [
      "girilen sayilar: 2,5,34,61\n",
      "ortalama:  25.5\n"
     ]
    }
   ],
   "source": [
    "numaralar = input(\"virgul ile sayilari giriniz\")\n",
    "print(\"girilen sayilar: {}\".format(numaralar))\n",
    "\n",
    "numaralarArr = numaralar.split(\",\")\n",
    "toplam = 0\n",
    "cnt=0\n",
    "\n",
    "for n in numaralarArr:\n",
    "    toplam += int(n)\n",
    "    cnt+=1\n",
    "\n",
    "print(\"ortalama: \",toplam/cnt)"
   ]
  },
  {
   "cell_type": "markdown",
   "id": "08edfcbf-21c0-40be-a68d-6e496778b851",
   "metadata": {},
   "source": [
    " Klavyeden başlangıç değeri, bitiş değeri ve artış miktarı girilen sayıları alt alta yazdıran python kodunu yazınız."
   ]
  },
  {
   "cell_type": "code",
   "execution_count": 139,
   "id": "e7d1a716-d4e8-49b2-baa8-aba8d799f62a",
   "metadata": {},
   "outputs": [
    {
     "name": "stdin",
     "output_type": "stream",
     "text": [
      "baslangic girin:  2\n",
      "bitis girin:  15\n",
      "artis girin:  1\n"
     ]
    },
    {
     "name": "stdout",
     "output_type": "stream",
     "text": [
      "2\n",
      "3\n",
      "4\n",
      "5\n",
      "6\n",
      "7\n",
      "8\n",
      "9\n",
      "10\n",
      "11\n",
      "12\n",
      "13\n",
      "14\n"
     ]
    }
   ],
   "source": [
    "baslangic = int(input(\"baslangic girin: \"))\n",
    "bitis = int(input(\"bitis girin: \"))\n",
    "artis = int(input(\"artis girin: \"))\n",
    "toplam = 0\n",
    "\n",
    "for i in range(baslangic,bitis,artis):\n",
    "    print(i)\n",
    "        \n",
    "\n"
   ]
  },
  {
   "cell_type": "markdown",
   "id": "a3249970-85e2-4822-a60d-2aca91d8fbb6",
   "metadata": {},
   "source": [
    " 0 dan 100 e kadar olan çift sayıların toplamını hesaplayan ve sonucu yazdıran python kodunu while döngüsü kullanarak yapan kodunu yazınız."
   ]
  },
  {
   "cell_type": "code",
   "execution_count": 151,
   "id": "66149b82-c3f7-4826-9c39-8bd13662a796",
   "metadata": {},
   "outputs": [
    {
     "data": {
      "text/plain": [
       "2550"
      ]
     },
     "execution_count": 151,
     "metadata": {},
     "output_type": "execute_result"
    }
   ],
   "source": [
    "i=0\n",
    "toplam = 0\n",
    "\n",
    "while(i<=100):\n",
    "    if(i%2==0):\n",
    "        toplam +=i\n",
    "    i+=1\n",
    "        \n",
    "toplam"
   ]
  },
  {
   "cell_type": "markdown",
   "id": "560891ab-3318-46aa-b827-90fde5f60302",
   "metadata": {},
   "source": [
    "0 dan 100 e kadar olan tek sayıların toplamını hesaplayan ve sonucu yazdıran python kodunu while döngüsü kullanarak yapan kodunu yazınız."
   ]
  },
  {
   "cell_type": "code",
   "execution_count": 153,
   "id": "e3f8ad5d-8fb0-4c73-a783-f08f19ebc4e2",
   "metadata": {},
   "outputs": [
    {
     "data": {
      "text/plain": [
       "2500"
      ]
     },
     "execution_count": 153,
     "metadata": {},
     "output_type": "execute_result"
    }
   ],
   "source": [
    "i=0\n",
    "toplam = 0\n",
    "\n",
    "while(i<=100):\n",
    "    if(i%2==1):\n",
    "        toplam +=i\n",
    "    i+=1\n",
    "        \n",
    "toplam"
   ]
  },
  {
   "cell_type": "markdown",
   "id": "7ac0b9c1-1e9f-4a7b-91f2-2afe9010eb19",
   "metadata": {},
   "source": [
    " Klavyeden girilen sayıya kadar olan sayıların toplamını hesaplayan ve sonucu yazdıran python kodunu while döngüsü kullanarak yapan kodunu yazınız."
   ]
  },
  {
   "cell_type": "code",
   "execution_count": 157,
   "id": "422da1a5-951b-4200-872c-75316b79c442",
   "metadata": {},
   "outputs": [
    {
     "name": "stdin",
     "output_type": "stream",
     "text": [
      "sayi girin:  10\n"
     ]
    },
    {
     "name": "stdout",
     "output_type": "stream",
     "text": [
      "55\n"
     ]
    }
   ],
   "source": [
    "sayi = int(input(\"sayi girin: \"))\n",
    "i = 0\n",
    "toplam = 0\n",
    "while(i<=sayi):\n",
    "    toplam+=i\n",
    "    i+=1\n",
    "\n",
    "print(toplam)\n",
    "    \n",
    "\n"
   ]
  },
  {
   "cell_type": "markdown",
   "id": "b96cf6c4-046c-4753-9d94-67e59a4b67e9",
   "metadata": {},
   "source": [
    "Klavyeden girilen sayıya kadar olan tek sayıların toplamını hesaplayan ve sonucu yazdıran python kodunu while döngüsü kullanarak yapan kodunu yazınız."
   ]
  },
  {
   "cell_type": "code",
   "execution_count": 159,
   "id": "492fe9c5-91c9-45ce-87ce-2e63eb2d6f04",
   "metadata": {},
   "outputs": [
    {
     "name": "stdin",
     "output_type": "stream",
     "text": [
      "sayi girin:  100\n"
     ]
    },
    {
     "name": "stdout",
     "output_type": "stream",
     "text": [
      "2500\n"
     ]
    }
   ],
   "source": [
    "sayi = int(input(\"sayi girin: \"))\n",
    "i = 0\n",
    "toplam = 0\n",
    "while(i<=sayi):\n",
    "    if(i%2==1):\n",
    "        toplam+=i\n",
    "    i+=1\n",
    "\n",
    "print(toplam)\n",
    "    \n"
   ]
  },
  {
   "cell_type": "markdown",
   "id": "b60abd95-a1aa-46fa-a01a-a04b2bcf22c6",
   "metadata": {},
   "source": [
    "Klavyeden girilen sayıya kadar olan çift sayıların toplamını hesaplayan ve sonucu yazdıran python kodunu while döngüsü kullanarak yapan kodunu yazınız."
   ]
  },
  {
   "cell_type": "code",
   "execution_count": 162,
   "id": "029d1e5c-9260-4c23-af4a-c79bfcb1509b",
   "metadata": {},
   "outputs": [
    {
     "name": "stdin",
     "output_type": "stream",
     "text": [
      "sayi girin:  100\n"
     ]
    },
    {
     "name": "stdout",
     "output_type": "stream",
     "text": [
      "2550\n"
     ]
    }
   ],
   "source": [
    "sayi = int(input(\"sayi girin: \"))\n",
    "i = 0\n",
    "toplam = 0\n",
    "while(i<=sayi):\n",
    "    if(i%2==0):\n",
    "        toplam+=i\n",
    "    i+=1\n",
    "\n",
    "print(toplam)"
   ]
  },
  {
   "cell_type": "markdown",
   "id": "d53cee77-2d2e-44c1-9211-6d5a21757a64",
   "metadata": {},
   "source": [
    "  Klavyeden girilen bir metni harflerine ayıran python programını while döngüsü ile yazdıran kodunu yazınız."
   ]
  },
  {
   "cell_type": "code",
   "execution_count": 165,
   "id": "18192d15-8a7a-4d59-80f7-866c17e07566",
   "metadata": {},
   "outputs": [
    {
     "name": "stdin",
     "output_type": "stream",
     "text": [
      "kelime girin: tavukdoner\n"
     ]
    },
    {
     "name": "stdout",
     "output_type": "stream",
     "text": [
      "t\n",
      "a\n",
      "v\n",
      "u\n",
      "k\n",
      "d\n",
      "o\n",
      "n\n",
      "e\n",
      "r\n"
     ]
    }
   ],
   "source": [
    "kelime = input(\"kelime girin:\")\n",
    "i=0\n",
    "\n",
    "while(i<len(kelime)):\n",
    "    print(kelime[i])\n",
    "    i+=1"
   ]
  },
  {
   "cell_type": "markdown",
   "id": "6e97e17a-30d8-4a9e-8f37-f99fec343376",
   "metadata": {},
   "source": [
    "0 ile 100 arasında 10 tane rastgele tam sayı üreten ve bu sayılardan en büyüğü ile en küçüğünü bulan ve ekranda gösteren python kodunu yazınız."
   ]
  },
  {
   "cell_type": "code",
   "execution_count": 189,
   "id": "44e3e6ff-5325-4a7b-9414-282b110d7905",
   "metadata": {},
   "outputs": [
    {
     "name": "stdout",
     "output_type": "stream",
     "text": [
      "31\n",
      "75\n",
      "80\n",
      "76\n",
      "86\n",
      "50\n",
      "81\n",
      "73\n",
      "4\n",
      "13\n",
      "en buyuk:86\n",
      "en kucuk:4\n"
     ]
    }
   ],
   "source": [
    "sayilar = []\n",
    "\n",
    "for i in range(0,10):\n",
    "    rast = random.randint(0,100) # 0 -100 arasi rastgele sayi uretir\n",
    "    sayilar.append(rast)         # rassal sayiyi dizinin sonuna ekler\n",
    "    print(rast)\n",
    "    \n",
    "en_kucuk = sayilar[0]\n",
    "en_buyuk = sayilar[0]\n",
    "\n",
    "for i in range(0,10):\n",
    "    if(sayilar[i]<en_kucuk):\n",
    "        en_kucuk=sayilar[i]\n",
    "    if(sayilar[i]>en_buyuk):\n",
    "        en_buyuk=sayilar[i]\n",
    "\n",
    "print(\"en buyuk:{0}\\nen kucuk:{1}\".format(en_buyuk,en_kucuk))\n",
    "    "
   ]
  },
  {
   "cell_type": "markdown",
   "id": "8c3d944b-f308-4591-89db-ab0aa5fc94f7",
   "metadata": {},
   "source": [
    "Kullanıcının klavyeden kilo bilgisi alınarak kilo 50 ve altında ise zayıfsın, 50-80 arası fitsin, 80 ve üstü ise kilo almışsın şeklinde ekranda yazdıran python kodunu yazınız."
   ]
  },
  {
   "cell_type": "code",
   "execution_count": 192,
   "id": "3c6656ec-c208-4b66-b631-95d9815c61a3",
   "metadata": {},
   "outputs": [
    {
     "name": "stdin",
     "output_type": "stream",
     "text": [
      "kilonuzu girin: 78\n"
     ]
    },
    {
     "name": "stdout",
     "output_type": "stream",
     "text": [
      "fit\n"
     ]
    }
   ],
   "source": [
    "kilo = int(input(\"kilonuzu girin:\"))\n",
    "\n",
    "if(kilo<=50): \n",
    "    print(\"zayif\")\n",
    "elif(50<kilo<80):\n",
    "    print(\"fit\")\n",
    "else:\n",
    "    print(\"kilolu\")\n",
    "    "
   ]
  },
  {
   "cell_type": "markdown",
   "id": "2a1a5023-ff81-49e2-a12f-9077755b7115",
   "metadata": {},
   "source": [
    "Kullanıcının klavyeden yaş bilgisi alınıp 18 yaşından küçükse çocuk 18-40 yaş arası ise genç, 40-60 yaş arası ise orta yaşlı 60 yaştan büyükse yaşlı şeklinde ekrana yazdıran programın python kodlarını yazınız."
   ]
  },
  {
   "cell_type": "code",
   "execution_count": 195,
   "id": "aec66e29-37c3-424b-916c-2f599399e077",
   "metadata": {},
   "outputs": [
    {
     "name": "stdin",
     "output_type": "stream",
     "text": [
      "yasinizi girin: 32\n"
     ]
    },
    {
     "name": "stdout",
     "output_type": "stream",
     "text": [
      "genc\n"
     ]
    }
   ],
   "source": [
    "yas = int(input(\"yasinizi girin:\"))\n",
    "\n",
    "if(yas<18): \n",
    "    print(\"cocuk\")\n",
    "elif(18<=yas<40):\n",
    "    print(\"genc\")\n",
    "elif(40<=yas<60):\n",
    "    print(\"orta yas\")    \n",
    "else:\n",
    "    print(\"yasli\")\n",
    "    "
   ]
  },
  {
   "cell_type": "markdown",
   "id": "5191915f-606d-4232-89b0-d20af4f28809",
   "metadata": {},
   "source": [
    "Klavyeden girilen iki sayının yine klavyeden girilen aritmetik operatör işaretlerine göre (toplama, çıkarma, çarpma bölme) dört işlem yapan ve sonucu ekranda gösteren python kodunu yazınız."
   ]
  },
  {
   "cell_type": "code",
   "execution_count": 200,
   "id": "ed34ace3-bae2-4db4-807c-20a0431ec114",
   "metadata": {},
   "outputs": [
    {
     "name": "stdin",
     "output_type": "stream",
     "text": [
      "1.sayiyi girin:  50\n",
      "2.sayiyi girin:  10\n",
      "islem girin:  /\n"
     ]
    },
    {
     "name": "stdout",
     "output_type": "stream",
     "text": [
      "50.0 / 10.0 = 5.0\n"
     ]
    }
   ],
   "source": [
    "sayi1=float(input(\"1.sayiyi girin: \"))\n",
    "sayi2=float(input(\"2.sayiyi girin: \"))\n",
    "islem=input(\"islem girin: \")\n",
    "\n",
    "if(islem == \"+\"):\n",
    "    print(\"{} + {} = {}\".format(sayi1,sayi2,sayi1+sayi2))\n",
    "elif(islem == \"-\"):\n",
    "    print(\"{} - {} = {}\".format(sayi1,sayi2,sayi1-sayi2))\n",
    "elif(islem == \"*\"):\n",
    "    print(\"{} * {} = {}\".format(sayi1,sayi2,sayi1*sayi2))\n",
    "elif(islem == \"/\"):\n",
    "    print(\"{} / {} = {}\".format(sayi1,sayi2,sayi1/sayi2))"
   ]
  },
  {
   "cell_type": "markdown",
   "id": "ccd64fa3-55a0-4385-9480-c683cc9f425c",
   "metadata": {},
   "source": [
    "Klavyeden girilen sayinin rakamlarinin toplamini yazdirin."
   ]
  },
  {
   "cell_type": "code",
   "execution_count": 215,
   "id": "cf033b2e-fcff-47aa-917d-8adbc8a84826",
   "metadata": {},
   "outputs": [
    {
     "name": "stdin",
     "output_type": "stream",
     "text": [
      "sayi gir: 23456\n"
     ]
    },
    {
     "name": "stdout",
     "output_type": "stream",
     "text": [
      "20\n"
     ]
    }
   ],
   "source": [
    "sayi = int(input(\"sayi gir:\"))\n",
    "ondalik = 0\n",
    "toplam = 0\n",
    "while sayi>0:\n",
    "    ondalık = int(sayi%10)\n",
    "    toplam += ondalık\n",
    "    sayi = int(sayi / 10)\n",
    "\n",
    "print(toplam)"
   ]
  },
  {
   "cell_type": "markdown",
   "id": "7b717197-b276-4e23-b822-69efa25474f0",
   "metadata": {},
   "source": [
    "Klavyeden Fahrenheit cinsinden girilen sıcaklığı Dereceye çeviren python kodunu yazınız."
   ]
  },
  {
   "cell_type": "code",
   "execution_count": 225,
   "id": "0fb6fc8b-cd5a-4390-83fd-745b36f3816d",
   "metadata": {},
   "outputs": [
    {
     "name": "stdin",
     "output_type": "stream",
     "text": [
      "F cinsinden sicaklik girin:  130\n"
     ]
    },
    {
     "name": "stdout",
     "output_type": "stream",
     "text": [
      "130.0 F = 54.44444444444444 C\n"
     ]
    }
   ],
   "source": [
    "fahrenheit = float(input(\"F cinsinden sicaklik girin: \"))\n",
    "print(\"{} F = {} C\".format(fahrenheit,(fahrenheit-32)/1.8))"
   ]
  },
  {
   "cell_type": "markdown",
   "id": "4c0de530-5a82-4cda-9c0f-0e909dd4390c",
   "metadata": {},
   "source": [
    "Klavyeden bir kenar uzunluğu girilen karenin alanını ve çevresini bulan ve ekrana yazdıran python kodunu yazınız."
   ]
  },
  {
   "cell_type": "code",
   "execution_count": 227,
   "id": "b5a1236c-3cee-40bf-bd5c-87729538096c",
   "metadata": {},
   "outputs": [
    {
     "name": "stdin",
     "output_type": "stream",
     "text": [
      "karenin bir kenar uzunlugunu girin:  8\n"
     ]
    },
    {
     "name": "stdout",
     "output_type": "stream",
     "text": [
      "cevre = 32.0\talan= 64.0\n"
     ]
    }
   ],
   "source": [
    "kenar = float(input(\"karenin bir kenar uzunlugunu girin: \"))\n",
    "print(\"cevre = {}\\talan= {}\".format(kenar*4,kenar*kenar))"
   ]
  },
  {
   "cell_type": "markdown",
   "id": "c354d089-82f1-4368-84d7-1fd3b3c6c925",
   "metadata": {},
   "source": [
    "Klavyeden girilen saniye değerinin kaç saat kaç dakika ve kaç saniye olduğunu bulan python kodunu yazınız."
   ]
  },
  {
   "cell_type": "code",
   "execution_count": 243,
   "id": "64dd4fce-560a-4f67-b1de-c5cb3c69053d",
   "metadata": {},
   "outputs": [
    {
     "name": "stdin",
     "output_type": "stream",
     "text": [
      "saniye cinsinden deger girin:  6502\n"
     ]
    },
    {
     "name": "stdout",
     "output_type": "stream",
     "text": [
      "1 sa 48 dk 22 sn\n"
     ]
    }
   ],
   "source": [
    "saniye = int(input(\"saniye cinsinden deger girin: \"))\n",
    "\n",
    "saat = saniye // 3600\n",
    "saniye = saniye % 3600\n",
    "dakika = saniye // 60\n",
    "saniye = saniye % 60\n",
    "\n",
    "print(\"{} sa {} dk {} sn\".format(saat,dakika,saniye))"
   ]
  },
  {
   "cell_type": "markdown",
   "id": "585f3227-6546-42ef-9bc6-d7b7801490c8",
   "metadata": {},
   "source": [
    "Klavyeden boy ve kilo bilgileri girilen kişinin beden kitle endeksini hesaplayan python kodunu yazınız."
   ]
  },
  {
   "cell_type": "code",
   "execution_count": 245,
   "id": "a3c607f2-b33b-407e-a746-03a969d9b9ed",
   "metadata": {},
   "outputs": [
    {
     "name": "stdin",
     "output_type": "stream",
     "text": [
      "boyunuzu girin:  1.85\n",
      "kilonuzu girin:  106\n"
     ]
    },
    {
     "name": "stdout",
     "output_type": "stream",
     "text": [
      "Beden kitle indeksi:  30.97\n"
     ]
    }
   ],
   "source": [
    "boy = float(input(\"boyunuzu girin: \"))\n",
    "kilo = float(input(\"kilonuzu girin: \"))\n",
    "print(\"Beden kitle indeksi: \",round(kilo/(boy**2),2))"
   ]
  },
  {
   "cell_type": "markdown",
   "id": "31190ff1-57d3-4966-bf3c-68ffef815f3e",
   "metadata": {},
   "source": [
    "Klavyeden girilen iki sayıdan büyük olanı bulan ve ekranda gösteren python kodunu yazınız."
   ]
  },
  {
   "cell_type": "code",
   "execution_count": 251,
   "id": "d1e491c9-3bde-4c4d-b8a4-7f1cde762231",
   "metadata": {},
   "outputs": [
    {
     "name": "stdin",
     "output_type": "stream",
     "text": [
      "sayi1 45\n",
      "sayi2 67\n"
     ]
    },
    {
     "name": "stdout",
     "output_type": "stream",
     "text": [
      "İkinci sayı büyük!\n"
     ]
    }
   ],
   "source": [
    "a= int(input(\"sayi1\"))\n",
    "b = int(input(\"sayi2\"))\n",
    "print(\"Birinci sayı büyük!\" if a > b else \"İkinci sayı büyük!\" if b > a else \"İki sayı eşit\")"
   ]
  },
  {
   "cell_type": "markdown",
   "id": "89cbbcda-6511-44a7-9a9e-ccd28e3311b9",
   "metadata": {},
   "source": [
    "Klavyeden girilen not ortalamasına göre kişinin takdir teşekkür normal geçme yada sınıf tekrarı yapması gerektiğini gösteren python kodunu yazınız."
   ]
  },
  {
   "cell_type": "code",
   "execution_count": 253,
   "id": "c56210e1-17c5-4acc-9019-b0f70666cef2",
   "metadata": {},
   "outputs": [
    {
     "name": "stdin",
     "output_type": "stream",
     "text": [
      "Not ortalamanızı giriniz:  69\n"
     ]
    },
    {
     "name": "stdout",
     "output_type": "stream",
     "text": [
      "Sınıfı Geçtiniz\n"
     ]
    }
   ],
   "source": [
    "ortalama=float(input(\"Not ortalamanızı giriniz: \"))\n",
    "if ortalama>=85:\n",
    " print(\"Takdir Belgesi Alamaya Hak Kazandınız!\")\n",
    "elif ortalama>=70:\n",
    " print(\"Teşekkür Belgesi Alamaya Hak Kazandınız!\")\n",
    "elif ortalama>=50:\n",
    " print(\"Sınıfı Geçtiniz\")\n",
    "else:\n",
    " print(\"Sınıf tekrarı...\")"
   ]
  }
 ],
 "metadata": {
  "kernelspec": {
   "display_name": "Python 3 (ipykernel)",
   "language": "python",
   "name": "python3"
  },
  "language_info": {
   "codemirror_mode": {
    "name": "ipython",
    "version": 3
   },
   "file_extension": ".py",
   "mimetype": "text/x-python",
   "name": "python",
   "nbconvert_exporter": "python",
   "pygments_lexer": "ipython3",
   "version": "3.12.4"
  }
 },
 "nbformat": 4,
 "nbformat_minor": 5
}

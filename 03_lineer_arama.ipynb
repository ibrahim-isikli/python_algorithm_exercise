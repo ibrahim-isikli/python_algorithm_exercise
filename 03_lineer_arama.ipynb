{
 "cells": [
  {
   "cell_type": "code",
   "execution_count": 1,
   "id": "4f7d31bd-aec0-4697-a192-d314b380e777",
   "metadata": {},
   "outputs": [],
   "source": [
    "# listeyi bastan sona tarayarak arar. En basit aramadir.\n",
    "# indeks 0 dan baslayarak hedefi her indeks icin karsilastirir\n",
    "# indeks[0] == hedef\n",
    "# indeks[1] == hedef\n",
    "# indeks[2] == hedef\n",
    "#..."
   ]
  },
  {
   "cell_type": "code",
   "execution_count": 9,
   "id": "496122a9-a5d1-42d2-b156-89f6a3947692",
   "metadata": {},
   "outputs": [
    {
     "name": "stdout",
     "output_type": "stream",
     "text": [
      "6\n"
     ]
    }
   ],
   "source": [
    "# bir liste tanimlayalim ve linear arama fonksiyonu kullanarak 150'yi bulalim\n",
    "\n",
    "\n",
    "\n",
    "\n",
    "def lineer_arama(liste,hedef):\n",
    "    liste_uzunlugu = len(liste)\n",
    "    for i in range(liste_uzunlugu):\n",
    "        if(liste[i]==hedef):\n",
    "            return i\n",
    "        \n",
    "\n",
    "\n",
    "    \n",
    "liste = [10,24,234,1235,764,347,150,162,978,23,546,236,897,233,867,23,65,78,2,4,1,35,75]\n",
    "print(lineer_arama(liste,150))\n",
    "\n",
    "\n"
   ]
  }
 ],
 "metadata": {
  "kernelspec": {
   "display_name": "Python 3 (ipykernel)",
   "language": "python",
   "name": "python3"
  },
  "language_info": {
   "codemirror_mode": {
    "name": "ipython",
    "version": 3
   },
   "file_extension": ".py",
   "mimetype": "text/x-python",
   "name": "python",
   "nbconvert_exporter": "python",
   "pygments_lexer": "ipython3",
   "version": "3.12.4"
  }
 },
 "nbformat": 4,
 "nbformat_minor": 5
}

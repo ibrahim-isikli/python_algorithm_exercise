{
 "cells": [
  {
   "cell_type": "markdown",
   "id": "7f33cbf8-b23e-489b-bd00-0caba93bec63",
   "metadata": {},
   "source": [
    "### TEMEL ALGORITMALAR"
   ]
  },
  {
   "cell_type": "code",
   "execution_count": 7,
   "id": "9a53a771-693f-4965-96f1-d02836fd934b",
   "metadata": {},
   "outputs": [
    {
     "name": "stdout",
     "output_type": "stream",
     "text": [
      "[10, 20, 30, 40, 50, 60]\n",
      "[10, 20, 40, 50, 60]\n",
      "5\n",
      "10\n",
      "20\n",
      "40\n",
      "50\n",
      "60\n"
     ]
    }
   ],
   "source": [
    "#liste islemleri\n",
    "\n",
    "liste = [10,20,30,40,50]\n",
    "\n",
    "#listenin sonuna eleman ekler\n",
    "liste.append(60)\n",
    "print(liste)\n",
    "\n",
    "#listeden eleman siler\n",
    "liste.remove(30)\n",
    "print(liste)\n",
    "\n",
    "#eleman sayisini gosterir\n",
    "print(len(liste))\n",
    "\n",
    "#listede gezinme \n",
    "for eleman in liste:\n",
    "    print(eleman)"
   ]
  },
  {
   "cell_type": "markdown",
   "id": "a27d7f25-b9ac-4f90-8263-14c12d59017f",
   "metadata": {},
   "source": [
    "### ----- Listeleri Sıralama (Sorting) ----- "
   ]
  },
  {
   "cell_type": "code",
   "execution_count": 10,
   "id": "097e73cf-5fde-47ac-a5b7-e7b1a3562bda",
   "metadata": {},
   "outputs": [
    {
     "name": "stdout",
     "output_type": "stream",
     "text": [
      "[1, 2, 5, 5, 6, 9]\n"
     ]
    }
   ],
   "source": [
    "liste = [5, 2, 9, 1, 5, 6]\n",
    "liste.sort()  # Küçükten büyüğe sıralar\n",
    "print(liste)  # [1, 2, 5, 5, 6, 9]"
   ]
  },
  {
   "cell_type": "markdown",
   "id": "c43e7491-fc33-4916-a999-88897aa57ad0",
   "metadata": {},
   "source": [
    "### ---- Bubble Sort (Kabarcık Sıralama) ---"
   ]
  },
  {
   "cell_type": "code",
   "execution_count": 47,
   "id": "6251f002-1269-4a4d-99b0-8384405b2a6d",
   "metadata": {},
   "outputs": [
    {
     "name": "stdout",
     "output_type": "stream",
     "text": [
      "\n",
      "1. tur başlıyor...\n",
      "  5 ve 1 karşılaştırılıyor.\n",
      "  Değiştirildi: [1, 5, 4, 2, 8]\n",
      "  5 ve 4 karşılaştırılıyor.\n",
      "  Değiştirildi: [1, 4, 5, 2, 8]\n",
      "  5 ve 2 karşılaştırılıyor.\n",
      "  Değiştirildi: [1, 4, 2, 5, 8]\n",
      "  5 ve 8 karşılaştırılıyor.\n",
      "  Değiştirilmedi.\n",
      "\n",
      "2. tur başlıyor...\n",
      "  1 ve 4 karşılaştırılıyor.\n",
      "  Değiştirilmedi.\n",
      "  4 ve 2 karşılaştırılıyor.\n",
      "  Değiştirildi: [1, 2, 4, 5, 8]\n",
      "  4 ve 5 karşılaştırılıyor.\n",
      "  Değiştirilmedi.\n",
      "\n",
      "3. tur başlıyor...\n",
      "  1 ve 2 karşılaştırılıyor.\n",
      "  Değiştirilmedi.\n",
      "  2 ve 4 karşılaştırılıyor.\n",
      "  Değiştirilmedi.\n",
      "\n",
      "4. tur başlıyor...\n",
      "  1 ve 2 karşılaştırılıyor.\n",
      "  Değiştirilmedi.\n",
      "\n",
      "5. tur başlıyor...\n"
     ]
    },
    {
     "data": {
      "text/plain": [
       "[1, 2, 4, 5, 8]"
      ]
     },
     "execution_count": 47,
     "metadata": {},
     "output_type": "execute_result"
    }
   ],
   "source": [
    "# https://youtu.be/xli_FI7CuzA\n",
    "\n",
    "liste = [5, 1, 4, 2, 8]\n",
    "\n",
    "def bubble_sort(liste):\n",
    "    n = len(liste)\n",
    "    for i in range(n):\n",
    "        print(f\"\\n{i+1}. tur başlıyor...\")\n",
    "        for j in range(0, n-i-1):\n",
    "            print(f\"  {liste[j]} ve {liste[j+1]} karşılaştırılıyor.\")\n",
    "            if liste[j] > liste[j+1]:\n",
    "                liste[j], liste[j+1] = liste[j+1], liste[j]\n",
    "                print(f\"  Değiştirildi: {liste}\")\n",
    "            else:\n",
    "                print(f\"  Değiştirilmedi.\")\n",
    "    return liste\n",
    "\n",
    "# Test\n",
    "bubble_sort(liste)\n"
   ]
  },
  {
   "cell_type": "code",
   "execution_count": 11,
   "id": "3d0605b1-e67a-440b-86d8-231b5614ae32",
   "metadata": {},
   "outputs": [
    {
     "name": "stdout",
     "output_type": "stream",
     "text": [
      "[2, 3, 4, 5, 6, 7, 8, 8, 9]\n"
     ]
    }
   ],
   "source": [
    "# https://youtu.be/g_xesqdQqvA\n",
    "\n",
    "def bubble(list_a):\n",
    "    indexing_length = len(list_a) - 1\n",
    "    sorted = False\n",
    "    while not sorted:\n",
    "        sorted = True\n",
    "        for i in range(0,indexing_length):\n",
    "            if list_a[i] > list_a[i+1]:\n",
    "                sorted = False\n",
    "                list_a[i], list_a[i+1] = list_a[i+1], list_a[i]\n",
    "    return list_a\n",
    "\n",
    "\n",
    "print(bubble([4,6,8,3,2,5,7,8,9]))\n",
    "                 \n"
   ]
  },
  {
   "cell_type": "code",
   "execution_count": 66,
   "id": "576d23bf-e749-495c-a80a-8f3ea9b76897",
   "metadata": {},
   "outputs": [
    {
     "name": "stdout",
     "output_type": "stream",
     "text": [
      "[5, 4, 3, 2, 1]\n",
      "[1, 2, 3, 4, 5]\n",
      "[1, 2, 3, 4, 5]\n"
     ]
    }
   ],
   "source": [
    "# BUBBLE SORT YONTEM 1 DENEME\n",
    "\n",
    "def bs_y1(list):\n",
    "    len_list=len(list)                 # 5\n",
    "    for i in range(len_list):          # 0 1 2 3 4\n",
    "        for j in range(len_list-1-i):  # range(4)    olmali li 0 1 2 3 gezcek  0-1 1-2 2-3 3-4 karsilastirsin # daha sonra range(3) olmali ki 0 1 2  gezcek 0-1 1-2 2-3 karsilastirsin\n",
    "            if(list[j]>list[j+1]):\n",
    "                list[j],list[j+1] = list[j+1], list[j]\n",
    "    return list           \n",
    "    \n",
    "# BUBBLE SORT YONTEM 2 DENEME\n",
    "def bs_y2(list):\n",
    "    len_list = len(list)-1 #4\n",
    "    flag = 0\n",
    "    while not(flag):\n",
    "        flag = 1\n",
    "        for i in range(len_list):# 0 1 2 3\n",
    "            if(list[i] > list[i+1]):\n",
    "                flag = 0\n",
    "                list[i],list[i+1] = list[i+1], list[i]\n",
    "    return list\n",
    "\n",
    "list2 = [5,4,3,2,1]\n",
    "print(list2)\n",
    "print(bs_y1(list2))\n",
    "print(bs_y2(list2))"
   ]
  },
  {
   "cell_type": "markdown",
   "id": "9b7a467d-94c0-49e6-bfbc-d947a5693f85",
   "metadata": {},
   "source": [
    "### LINEAR SEARCH"
   ]
  },
  {
   "cell_type": "code",
   "execution_count": 89,
   "id": "65cd1843-7f06-4533-b927-43f28123f44c",
   "metadata": {},
   "outputs": [
    {
     "name": "stdout",
     "output_type": "stream",
     "text": [
      "3\n"
     ]
    }
   ],
   "source": [
    "# en basit eleman arama, listeyi bastan sonra kontrol eder\n",
    "\n",
    "def linear_search(liste,hedef):\n",
    "    for i in range(len(liste)):\n",
    "        if(liste[i]==hedef):\n",
    "            return i\n",
    "    return -1\n",
    "\n",
    "liste = [10,20,30,40,50]\n",
    "print(linear_search(liste,40))"
   ]
  },
  {
   "cell_type": "markdown",
   "id": "c2af4cb1-fb89-43ee-adad-ed1fca120708",
   "metadata": {},
   "source": [
    "### BINARY SEARCH"
   ]
  },
  {
   "cell_type": "code",
   "execution_count": 14,
   "id": "bc628cc5-8a82-4ab9-b357-4f0c472339bc",
   "metadata": {},
   "outputs": [
    {
     "name": "stdout",
     "output_type": "stream",
     "text": [
      "4\n"
     ]
    }
   ],
   "source": [
    "# https://youtu.be/cvsZCh_0H9A\n",
    "\n",
    "def binary_search(liste, hedef):    # hedef 40\n",
    "    low = 0\n",
    "    high = len(liste) - 1           # low = 0 high = 4\n",
    "    while low <= high:             # 0<4\n",
    "        mid = (low + high) // 2    # mid = 2\n",
    "        if liste[mid] == hedef:    #  30 == 40\n",
    "            return mid\n",
    "        elif liste[mid] < hedef:   # 30 < 40\n",
    "            low = mid + 1          # low = 3\n",
    "        else:\n",
    "            high = mid - 1\n",
    "    return -1\n",
    "\n",
    "# Test etme\n",
    "liste = [10, 20, 30, 40, 50]\n",
    "sonuc = binary_search(liste, 50)\n",
    "print(sonuc)  # 2"
   ]
  },
  {
   "cell_type": "code",
   "execution_count": 15,
   "id": "89f9a4dd-6806-47f6-92ba-49ce652f2a21",
   "metadata": {},
   "outputs": [
    {
     "name": "stdout",
     "output_type": "stream",
     "text": [
      "3\n",
      "6\n"
     ]
    }
   ],
   "source": [
    "# linear search ve binary search alistirma\n",
    "\n",
    "def lineer_arama(liste,hedef):\n",
    "    n = len(liste)\n",
    "    for i in range(n):\n",
    "        if(liste[i] == hedef):\n",
    "            return i\n",
    "    return -1\n",
    "\n",
    "def binary_arama(liste,hedef):\n",
    "    lower = 0\n",
    "    upper = len(liste) -1\n",
    "    while(lower<=upper):\n",
    "        middle = (lower+upper)//2\n",
    "        if(liste[middle] == hedef):\n",
    "            return middle\n",
    "        elif(liste[middle] < hedef):\n",
    "            lower = middle + 1\n",
    "        else:\n",
    "            upper = middle - 1\n",
    "    return -1\n",
    "        \n",
    "    \n",
    "liste_lineer = [96,32,523,12,56,604,28,23,49,122]\n",
    "liste_binary = [7,12,49,56,64,79,80,95,102,114]\n",
    "\n",
    "print(lineer_arama(liste_lineer,12))\n",
    "print(binary_arama(liste_binary,80))\n"
   ]
  },
  {
   "cell_type": "markdown",
   "id": "9d5e336f-4452-47cb-90ab-5a873710631a",
   "metadata": {},
   "source": [
    "### REKURSIF FONKSIYONLAR"
   ]
  },
  {
   "cell_type": "code",
   "execution_count": 18,
   "id": "1bbd0ecf-b979-47c7-a3f8-99274d4d426f",
   "metadata": {},
   "outputs": [
    {
     "name": "stdout",
     "output_type": "stream",
     "text": [
      "0\n",
      "1\n",
      "1\n",
      "2\n",
      "3\n",
      "5\n",
      "8\n",
      "13\n",
      "21\n",
      "34\n"
     ]
    }
   ],
   "source": [
    "def fibonacci(n):\n",
    "    if n <= 1:\n",
    "        return n\n",
    "    else:\n",
    "        return fibonacci(n-1) + fibonacci(n-2)\n",
    "\n",
    "# Test etme\n",
    "for i in range(10):\n",
    "    print(fibonacci(i))\n"
   ]
  },
  {
   "cell_type": "markdown",
   "id": "b7436f09-f23a-4dfb-9866-77ee1a67ee29",
   "metadata": {},
   "source": [
    "### SELECTION SORT"
   ]
  },
  {
   "cell_type": "code",
   "execution_count": 25,
   "id": "3b87f482-add9-4c59-b5d2-968bffcb867f",
   "metadata": {},
   "outputs": [
    {
     "name": "stdout",
     "output_type": "stream",
     "text": [
      "Sıralı liste: [11, 12, 22, 25, 64]\n"
     ]
    }
   ],
   "source": [
    "def selection_sort(liste):\n",
    "    n = len(liste) # n = 5\n",
    "    \n",
    "    # Her adımda bir eleman doğru konuma yerleştirilir\n",
    "    for i in range(n):  # i= 0 1 2 3 4\n",
    "        # Listenin geri kalanındaki en küçük elemanı bul\n",
    "        min_index = i   # min_index = 0\n",
    "        for j in range(i+1, n): #range(1,5) j= 1 2 3 4    i = 0            \n",
    "            if liste[j] < liste[min_index]: # liste[1] < liste[0] , liste[2] < liste[1], liste[3] < liste[2], liste[4] < liste[2] ->min_index = 4  \n",
    "                min_index = j              \n",
    "        \n",
    "        # En küçük elemanı baştaki elemanla yer değiştir\n",
    "        liste[i], liste[min_index] = liste[min_index], liste[i]\n",
    "    \n",
    "    return liste\n",
    "\n",
    "# Test etme\n",
    "liste = [64, 25, 12, 22, 11]\n",
    "sorted_list = selection_sort(liste)\n",
    "print(\"Sıralı liste:\", sorted_list)\n"
   ]
  },
  {
   "cell_type": "markdown",
   "id": "f7a8cb96-33cb-4961-8019-65b992a98e49",
   "metadata": {},
   "source": [
    "### INSERTION SORT"
   ]
  },
  {
   "cell_type": "code",
   "execution_count": 4,
   "id": "94383f52-7507-4d68-87dc-61cc35d65919",
   "metadata": {},
   "outputs": [
    {
     "name": "stdout",
     "output_type": "stream",
     "text": [
      "Sıralı liste: [5, 6, 11, 12, 13]\n"
     ]
    }
   ],
   "source": [
    "# https://youtu.be/NR3QnXjIV2I\n",
    "\n",
    "def insertion_sort(liste):\n",
    "    # İlk eleman zaten sıralı kabul edilir, bu yüzden 1. elemandan başlıyoruz\n",
    "    for i in range(1, len(liste)):  # 1 2 3 4 5  i = 1   i = 2\n",
    "        key = liste[i]  # Sıralamak istediğimiz eleman  # key = 11 = liste[1]    key = 13 = liste[2]\n",
    "        j = i - 1       # j = 1-1 = 0                                            j= 1\n",
    "\n",
    "        # Sıralı kısımdan key'den büyük olan elemanları sağa kaydır\n",
    "        while j >= 0 and key < liste[j]:  #0>=0 11<12                   \n",
    "            liste[j + 1] = liste[j]      # liste[1] = liste[0]\n",
    "            j -= 1                      # j= -1\n",
    "        \n",
    "        # Key'i doğru yere yerleştir\n",
    "        liste[j + 1] = key            # liste[0]= 11\n",
    "\n",
    "    return liste\n",
    "\n",
    "# Test etme\n",
    "liste = [12, 11, 13, 5, 6]\n",
    "sorted_list = insertion_sort(liste)\n",
    "print(\"Sıralı liste:\", sorted_list)\n"
   ]
  },
  {
   "cell_type": "markdown",
   "id": "796b3233-9ab4-4ab1-b8b5-230c17103173",
   "metadata": {},
   "source": [
    "### Merge Sort"
   ]
  },
  {
   "cell_type": "code",
   "execution_count": 9,
   "id": "22325328-a16e-43b9-b7bc-23955681fe9e",
   "metadata": {},
   "outputs": [
    {
     "name": "stdout",
     "output_type": "stream",
     "text": [
      "Sıralı liste: [3, 9, 10, 27, 38, 43, 82]\n"
     ]
    }
   ],
   "source": [
    "def merge_sort(liste):\n",
    "    if len(liste) > 1:\n",
    "        mid = len(liste) // 2  # Listenin ortası\n",
    "        left_half = liste[:mid]  # Sol yarı\n",
    "        right_half = liste[mid:]  # Sağ yarı\n",
    "\n",
    "        # Alt listeleri sıralamak için recursive (özyinelemeli) çağrı\n",
    "        merge_sort(left_half)\n",
    "        merge_sort(right_half)\n",
    "\n",
    "        # Şimdi sol ve sağ yarıları birleştireceğiz\n",
    "        i = j = k = 0\n",
    "        \n",
    "        # İki listeyi sıralı bir şekilde birleştir\n",
    "        while i < len(left_half) and j < len(right_half):\n",
    "            if left_half[i] < right_half[j]:\n",
    "                liste[k] = left_half[i]\n",
    "                i += 1\n",
    "            else:\n",
    "                liste[k] = right_half[j]\n",
    "                j += 1\n",
    "            k += 1\n",
    "\n",
    "        # Kalan elemanları ekle (eğer varsa)\n",
    "        while i < len(left_half):\n",
    "            liste[k] = left_half[i]\n",
    "            i += 1\n",
    "            k += 1\n",
    "\n",
    "        while j < len(right_half):\n",
    "            liste[k] = right_half[j]\n",
    "            j += 1\n",
    "            k += 1\n",
    "\n",
    "    return liste\n",
    "\n",
    "# Test etme\n",
    "liste = [38, 27, 43, 3, 9, 82, 10]\n",
    "sorted_list = merge_sort(liste)\n",
    "print(\"Sıralı liste:\", sorted_list)\n"
   ]
  },
  {
   "cell_type": "markdown",
   "id": "a189e925-37b8-4ff5-a156-93ca542957c9",
   "metadata": {},
   "source": [
    "### Quick Sort"
   ]
  },
  {
   "cell_type": "code",
   "execution_count": null,
   "id": "ed413381-aaef-483e-83e2-2c4ec84968f7",
   "metadata": {},
   "outputs": [],
   "source": [
    "def partition(liste, low, high):\n",
    "    pivot = liste[high]  # Sağdaki eleman pivot olarak seçilir\n",
    "    i = low - 1  # Küçük elemanların dizinini takip eden işaretçi\n",
    "\n",
    "    for j in range(low, high):\n",
    "        if liste[j] < pivot:\n",
    "            i += 1\n",
    "            liste[i], liste[j] = liste[j], liste[i]  # Yer değiştir\n",
    "\n",
    "    liste[i + 1], liste[high] = liste[high], liste[i + 1]  # Pivotu doğru yerine yerleştir\n",
    "    return i + 1\n",
    "\n",
    "def quick_sort(liste, low, high):\n",
    "    if low < high:\n",
    "        # Listeyi pivot etrafında ikiye ayır ve pivot indeksini al\n",
    "        pi = partition(liste, low, high)\n",
    "\n",
    "        # Sol ve sağ tarafı sırala\n",
    "        quick_sort(liste, low, pi - 1)\n",
    "        quick_sort(liste, pi + 1, high)\n",
    "\n",
    "# Test etme\n",
    "liste = [10, 7, 8, 9, 1, 5]\n",
    "n = len(liste)\n",
    "quick_sort(liste, 0, n - 1)\n",
    "print(\"Sıralı liste:\", liste)\n"
   ]
  }
 ],
 "metadata": {
  "kernelspec": {
   "display_name": "Python 3 (ipykernel)",
   "language": "python",
   "name": "python3"
  },
  "language_info": {
   "codemirror_mode": {
    "name": "ipython",
    "version": 3
   },
   "file_extension": ".py",
   "mimetype": "text/x-python",
   "name": "python",
   "nbconvert_exporter": "python",
   "pygments_lexer": "ipython3",
   "version": "3.12.4"
  }
 },
 "nbformat": 4,
 "nbformat_minor": 5
}

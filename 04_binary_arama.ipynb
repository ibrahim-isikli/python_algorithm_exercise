{
 "cells": [
  {
   "cell_type": "code",
   "execution_count": 3,
   "id": "b4d0931a-004a-4ac4-bfae-6caaa5965ab1",
   "metadata": {},
   "outputs": [],
   "source": [
    "# binar arama icin dizimizin sirali olmasi gerekir\n",
    "# bir sözlük düsün a dan z ye sıralı ve c yi ariyorum\n",
    "# sözlügü ortadan actim baktım k geldi \n",
    "# artik ne tarafa bakmaliyim ? a --- c ----- k ----- z\n",
    "# sola bakmaliyim, sagi at\n",
    "# a---c----k yarisina bakalim\n",
    "# a---c--d--k   sagi at\n",
    "#problemi surekli yariya dusur\n",
    "\n",
    "# big o notasyonu 2^x = n   x = logn\n",
    "\n",
    "#  20 yi bulalim\n",
    "#            |\n",
    "# [10 20 30 40 50 60 70 ]\n",
    "# [10 20 30 (40)]\n",
    "#         |\n",
    "# [10 20 30 ]\n",
    "# [10 20 30]\n",
    "#       |\n",
    "#  [10 20 30]\n"
   ]
  },
  {
   "cell_type": "code",
   "execution_count": 5,
   "id": "580ba52c-a5f7-40c0-b4e4-c4b89e25c927",
   "metadata": {},
   "outputs": [
    {
     "data": {
      "text/plain": [
       "6"
      ]
     },
     "execution_count": 5,
     "metadata": {},
     "output_type": "execute_result"
    }
   ],
   "source": [
    "def binary_arama(liste,hedef):\n",
    "    lower = 0;\n",
    "    upper = len(liste) - 1\n",
    "    while(upper>=lower):\n",
    "        middle = (lower + upper ) // 2\n",
    "        if(liste[middle] > hedef):\n",
    "            upper = middle -1\n",
    "        elif(liste[middle] < hedef):\n",
    "            lower = middle + 1\n",
    "        elif(liste[middle] == hedef):\n",
    "            return middle\n",
    "            \n",
    "liste = [10,20,30,40,50,60,70]\n",
    "binary_arama(liste,70)"
   ]
  },
  {
   "cell_type": "code",
   "execution_count": 11,
   "id": "f041a82a-3ff4-4fbd-9241-1cd49ddfbac4",
   "metadata": {},
   "outputs": [
    {
     "name": "stdout",
     "output_type": "stream",
     "text": [
      "2\n"
     ]
    }
   ],
   "source": [
    "def binary_arama_2(liste,hedef):\n",
    "    lower = 0\n",
    "    upper = len(liste)-1\n",
    "    while(upper>=lower):\n",
    "        middle = (lower + upper) // 2\n",
    "        if(liste[middle] > hedef):\n",
    "            upper = middle - 1\n",
    "        elif(liste[middle] < hedef):\n",
    "            lower = middle + 1\n",
    "        else:\n",
    "            return middle\n",
    "    \n",
    "\n",
    "\n",
    "\n",
    "\n",
    "liste2=[12,34,56,78,90,102,103,104]\n",
    "print(binary_arama_2(liste2,56))\n"
   ]
  }
 ],
 "metadata": {
  "kernelspec": {
   "display_name": "Python 3 (ipykernel)",
   "language": "python",
   "name": "python3"
  },
  "language_info": {
   "codemirror_mode": {
    "name": "ipython",
    "version": 3
   },
   "file_extension": ".py",
   "mimetype": "text/x-python",
   "name": "python",
   "nbconvert_exporter": "python",
   "pygments_lexer": "ipython3",
   "version": "3.12.4"
  }
 },
 "nbformat": 4,
 "nbformat_minor": 5
}

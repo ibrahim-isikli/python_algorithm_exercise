{
 "cells": [
  {
   "cell_type": "code",
   "execution_count": null,
   "id": "49913d85-64ad-4b90-9295-05f12b182e9f",
   "metadata": {},
   "outputs": [],
   "source": [
    "# Big O Notasyonu\n",
    "\n",
    "# A  algoritmasi -> 100 islem yapiyor\n",
    "# B algoritmasi ->  7 islem yapior\n",
    "\n",
    "# Genel input yapitina gore algoritma ne kadar hizli isliyor ?\n",
    "# iste buna cevap ariyoruz\n",
    "\n",
    "# A algoritmasi linear arama algoritmasi olsun\n",
    "# B algoritmasi binary arama algoritması olsun\n",
    "\n",
    "# n elemanli bir dizide 50 sayisini bulmaya calissinlar\n",
    "# A -> n islem\n",
    "# B -> 2^x = n      z = log(n)\n",
    "\n",
    "# A daki islem grafigi lineer grafikken B deki logaritmik grafik\n",
    "# Big o notasyonum -> O(n) ve O(logn) olarak ifade edilir\n",
    "# algoritmanin performansini inceliyoruz\n",
    "\n",
    "# Big O natasyonunda n'in derecesi önemlidir     3n^2 -> big o natsayonu n^2    (n^4)/2  + 4n^3 -> big o natsayonu n^4\n"
   ]
  }
 ],
 "metadata": {
  "kernelspec": {
   "display_name": "Python 3 (ipykernel)",
   "language": "python",
   "name": "python3"
  },
  "language_info": {
   "codemirror_mode": {
    "name": "ipython",
    "version": 3
   },
   "file_extension": ".py",
   "mimetype": "text/x-python",
   "name": "python",
   "nbconvert_exporter": "python",
   "pygments_lexer": "ipython3",
   "version": "3.12.4"
  }
 },
 "nbformat": 4,
 "nbformat_minor": 5
}

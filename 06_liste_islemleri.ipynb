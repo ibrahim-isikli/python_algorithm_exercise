{
 "cells": [
  {
   "cell_type": "code",
   "execution_count": 1,
   "id": "fae80589-ea95-4926-8ac5-3010c6b25dbc",
   "metadata": {},
   "outputs": [
    {
     "data": {
      "text/plain": [
       "7"
      ]
     },
     "execution_count": 1,
     "metadata": {},
     "output_type": "execute_result"
    }
   ],
   "source": [
    "# listede en kucuk elemani bulma\n",
    "\n",
    "\n",
    "liste = [45,324,456,123,546,873,432,424,67,63,53,98,7,34,12,54,76,78,12,10,12,65,34,23,68]\n",
    "\n",
    "temp_min = liste[0]\n",
    "\n",
    "for i in range(len(liste)-1):\n",
    "    if(liste[i]<temp_min):\n",
    "        temp_min = liste[i]\n",
    "\n",
    "\n",
    "temp_min\n",
    "    "
   ]
  },
  {
   "cell_type": "code",
   "execution_count": 7,
   "id": "e4e908d7-7f63-4559-87fc-dd8907c4619b",
   "metadata": {},
   "outputs": [
    {
     "data": {
      "text/plain": [
       "873"
      ]
     },
     "execution_count": 7,
     "metadata": {},
     "output_type": "execute_result"
    }
   ],
   "source": [
    "# listede en büyük elemani bulma\n",
    "\n",
    "\n",
    "liste = [45,324,456,123,546,873,432,424,67,63,53,98,7,34,12,54,76,78,12,10,12,65,34,23,68]\n",
    "\n",
    "temp_max = liste[0]\n",
    "\n",
    "for i in range(len(liste)-1):\n",
    "    if(liste[i]>temp_max):\n",
    "        temp_max = liste[i]\n",
    "\n",
    "\n",
    "temp_max\n",
    "    "
   ]
  },
  {
   "cell_type": "code",
   "execution_count": 21,
   "id": "faad69a1-6fcd-49f6-864d-266be351f75a",
   "metadata": {},
   "outputs": [
    {
     "data": {
      "text/plain": [
       "[324, 456, 546, 432, 424, 98, 34, 12, 54, 76, 78, 12, 10, 12, 34, 68]"
      ]
     },
     "execution_count": 21,
     "metadata": {},
     "output_type": "execute_result"
    }
   ],
   "source": [
    "# listedeki cift sayilari bulma\n",
    "\n",
    "liste = [45, 324, 456, 123, 546, 873, 432, 424, 67, 63, 53, 98, 7, 34, 12, 54, 76, 78, 12, 10, 12, 65, 34, 23, 68]\n",
    "sonuc = []\n",
    "\n",
    "for i in range(len(liste)):\n",
    "    if(liste[i] % 2 == 0):\n",
    "        sonuc.append(liste[i])\n",
    "\n",
    "\n",
    "sonuc\n"
   ]
  },
  {
   "cell_type": "code",
   "execution_count": 25,
   "id": "199265ae-de6b-4c74-9b0d-8d645572ae2a",
   "metadata": {},
   "outputs": [
    {
     "data": {
      "text/plain": [
       "3989"
      ]
     },
     "execution_count": 25,
     "metadata": {},
     "output_type": "execute_result"
    }
   ],
   "source": [
    "# Listedeki sayılar toplamını bulma\n",
    "\n",
    "liste = [45, 324, 456, 123, 546, 873, 432, 424, 67, 63, 53, 98, 7, 34, 12, 54, 76, 78, 12, 10, 12, 65, 34, 23, 68]\n",
    "toplam = 0\n",
    "\n",
    "for i in range(len(liste)):\n",
    "    toplam += liste[i]\n",
    "\n",
    "toplam"
   ]
  },
  {
   "cell_type": "code",
   "execution_count": null,
   "id": "cd1e1db3-ed44-47bd-b42d-b248d92f362d",
   "metadata": {},
   "outputs": [],
   "source": []
  }
 ],
 "metadata": {
  "kernelspec": {
   "display_name": "Python 3 (ipykernel)",
   "language": "python",
   "name": "python3"
  },
  "language_info": {
   "codemirror_mode": {
    "name": "ipython",
    "version": 3
   },
   "file_extension": ".py",
   "mimetype": "text/x-python",
   "name": "python",
   "nbconvert_exporter": "python",
   "pygments_lexer": "ipython3",
   "version": "3.12.4"
  }
 },
 "nbformat": 4,
 "nbformat_minor": 5
}

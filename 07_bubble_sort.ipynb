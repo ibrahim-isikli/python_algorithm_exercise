{
 "cells": [
  {
   "cell_type": "code",
   "execution_count": 3,
   "id": "97b67b97-4924-440d-8a00-0b4d6327e649",
   "metadata": {},
   "outputs": [
    {
     "data": {
      "text/plain": [
       "[1, 2, 3, 4, 5, 8, 9]"
      ]
     },
     "execution_count": 3,
     "metadata": {},
     "output_type": "execute_result"
    }
   ],
   "source": [
    "liste = [2,8,5,3,9,4,1]\n",
    "n = len(liste)\n",
    "\n",
    "for i in range(n):  \n",
    "    for j in range(n-1-i):\n",
    "        if(liste[j]>liste[j+1]):\n",
    "            liste[j],liste[j+1]=liste[j+1],liste[j]\n",
    "\n",
    "liste\n",
    "    "
   ]
  },
  {
   "cell_type": "code",
   "execution_count": 3,
   "id": "f673080a-2f22-439e-8138-e6037b651225",
   "metadata": {},
   "outputs": [
    {
     "data": {
      "text/plain": [
       "[2, 4, 5, 7, 10, 18, 25, 30, 43, 90]"
      ]
     },
     "execution_count": 3,
     "metadata": {},
     "output_type": "execute_result"
    }
   ],
   "source": [
    "array = [2,4,5,7,25,43,10,30,90,18]\n",
    "\n",
    "size = len(array)\n",
    "\n",
    "for i in range(size):\n",
    "    for j in range(size-1-i):\n",
    "        if(array[j]>array[j+1]):\n",
    "            array[j],array[j+1]=array[j+1],array[j]\n",
    "\n",
    "\n",
    "array\n",
    "    "
   ]
  },
  {
   "cell_type": "code",
   "execution_count": 3,
   "id": "e37f0b1c-846f-4598-a495-4f8310a9261a",
   "metadata": {},
   "outputs": [
    {
     "data": {
      "text/plain": [
       "[10, 18, 23, 25, 30, 34, 43, 45, 75, 76, 90, 123, 223, 234]"
      ]
     },
     "execution_count": 3,
     "metadata": {},
     "output_type": "execute_result"
    }
   ],
   "source": [
    "def bubble_sort2(liste):\n",
    "    n = len(liste)\n",
    "    for i in range(n):\n",
    "        for j in range(n-1-i):\n",
    "            if(liste[j]>liste[j+1]):\n",
    "                liste[j],liste[j+1] = liste[j+1],liste[j]\n",
    "\n",
    "\n",
    "array_2 = [23,45,75,234,76,25,223,43,10,30,90,123,18,34]\n",
    "bubble_sort2(array_2)\n",
    "array_2"
   ]
  }
 ],
 "metadata": {
  "kernelspec": {
   "display_name": "Python 3 (ipykernel)",
   "language": "python",
   "name": "python3"
  },
  "language_info": {
   "codemirror_mode": {
    "name": "ipython",
    "version": 3
   },
   "file_extension": ".py",
   "mimetype": "text/x-python",
   "name": "python",
   "nbconvert_exporter": "python",
   "pygments_lexer": "ipython3",
   "version": "3.12.4"
  }
 },
 "nbformat": 4,
 "nbformat_minor": 5
}

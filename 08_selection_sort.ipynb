{
 "cells": [
  {
   "cell_type": "code",
   "execution_count": 3,
   "id": "9a09393d-24b7-49d0-b96d-86cb2bb211e4",
   "metadata": {},
   "outputs": [
    {
     "name": "stdout",
     "output_type": "stream",
     "text": [
      "Sıralı dizi: [11, 12, 22, 25, 64]\n"
     ]
    }
   ],
   "source": [
    "def selection_sort(arr):\n",
    "    n = len(arr)\n",
    "    # Tüm elemanları sırayla geçmek için döngü\n",
    "    for i in range(n):\n",
    "        # En küçük elemanın indeksini bulun\n",
    "        min_index = i\n",
    "        for j in range(i + 1, n):\n",
    "            if arr[j] < arr[min_index]:\n",
    "                min_index = j\n",
    "        # En küçük elemanı, ilk sıradakiyle yer değiştirin\n",
    "        arr[i], arr[min_index] = arr[min_index], arr[i]\n",
    "\n",
    "# Örnek kullanım\n",
    "arr = [64, 25, 12, 22, 11]\n",
    "selection_sort(arr)\n",
    "print(\"Sıralı dizi:\", arr)\n"
   ]
  },
  {
   "cell_type": "code",
   "execution_count": 1,
   "id": "cc694e9c-16d7-43f5-9ef3-5498aaf50c2c",
   "metadata": {},
   "outputs": [
    {
     "data": {
      "text/plain": [
       "[1, 2, 3, 4, 5, 8, 9]"
      ]
     },
     "execution_count": 1,
     "metadata": {},
     "output_type": "execute_result"
    }
   ],
   "source": [
    "list = [2,8,5,3,9,4,1]\n",
    "\n",
    "n = len(list)\n",
    "j=0\n",
    "i=0\n",
    "\n",
    "for i in range(n):\n",
    "    yerel_minumum = i\n",
    "    for j in range(i+1,n):\n",
    "        if list[j] < list[yerel_minumum]:\n",
    "            yerel_minumum = j\n",
    "    list[i],list[yerel_minumum]=list[yerel_minumum],list[i]\n",
    "\n",
    "\n",
    "list"
   ]
  },
  {
   "cell_type": "code",
   "execution_count": 11,
   "id": "bc5f2dfb-d90b-4f0d-b871-18acd578f688",
   "metadata": {},
   "outputs": [
    {
     "name": "stdout",
     "output_type": "stream",
     "text": [
      "[23, 34, 43, 123, 546, 765, 1235, 3254, 7623, 54312]\n",
      "karmasiklik O(n^2)\n"
     ]
    }
   ],
   "source": [
    "def selection_sort_test(__list):\n",
    "    \n",
    "    n = len(__list)\n",
    "    j = 0\n",
    "    i = 0\n",
    "    \n",
    "    for i in range(n):\n",
    "        local_min = i\n",
    "        for j in range(i+1,n):\n",
    "            if __list[j] < __list[local_min]:\n",
    "                __list[j] , __list[local_min] = __list[local_min], __list[j] \n",
    "\n",
    "my_list_test=[3254,546,1235,123,34,765,23,7623,54312,43]\n",
    "selection_sort_test(my_list_test)\n",
    "print(my_list_test)\n",
    "print(\"karmasiklik O(n^2)\")"
   ]
  }
 ],
 "metadata": {
  "kernelspec": {
   "display_name": "Python 3 (ipykernel)",
   "language": "python",
   "name": "python3"
  },
  "language_info": {
   "codemirror_mode": {
    "name": "ipython",
    "version": 3
   },
   "file_extension": ".py",
   "mimetype": "text/x-python",
   "name": "python",
   "nbconvert_exporter": "python",
   "pygments_lexer": "ipython3",
   "version": "3.12.4"
  }
 },
 "nbformat": 4,
 "nbformat_minor": 5
}

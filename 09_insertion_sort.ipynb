{
 "cells": [
  {
   "cell_type": "code",
   "execution_count": 3,
   "id": "3d47a386-3176-4352-b42f-aef831feea02",
   "metadata": {},
   "outputs": [
    {
     "name": "stdout",
     "output_type": "stream",
     "text": [
      "Sıralı dizi: [5, 6, 11, 12, 13]\n"
     ]
    }
   ],
   "source": [
    "def insertion_sort(arr):\n",
    "    # 1'den başlıyoruz çünkü ilk eleman zaten sıralı kabul ediliyor\n",
    "    for i in range(1, len(arr)):\n",
    "        # Şu anki elemanı bir değişkene al\n",
    "        current_value = arr[i]\n",
    "        # Bu elemanın nereye yerleşeceğini bulmak için geri doğru kontrol edeceğiz\n",
    "        j = i - 1\n",
    "        # Daha küçük bir sayı bulana kadar elemanları sağa kaydır\n",
    "        while j >= 0 and current_value < arr[j]:\n",
    "            arr[j + 1] = arr[j]\n",
    "            j -= 1\n",
    "        # Doğru pozisyona yerleştir\n",
    "        arr[j + 1] = current_value\n",
    "\n",
    "# Örnek kullanım\n",
    "arr = [12, 11, 13, 5, 6]\n",
    "insertion_sort(arr)\n",
    "print(\"Sıralı dizi:\", arr)\n"
   ]
  },
  {
   "cell_type": "code",
   "execution_count": 1,
   "id": "98a74228-36c5-4277-b728-5ef934880804",
   "metadata": {},
   "outputs": [
    {
     "data": {
      "text/plain": [
       "[2, 3, 4, 5, 8, 9]"
      ]
     },
     "execution_count": 1,
     "metadata": {},
     "output_type": "execute_result"
    }
   ],
   "source": [
    "def insertion_sort2(list):\n",
    "    size = len(list)\n",
    "    for i in range(1,size):\n",
    "        key_value = list[i]\n",
    "        j = i-1 #scan_begin_index\n",
    "        while (j>=0 and key_value < list[j]):\n",
    "            list[j+1]=list[j]\n",
    "            j-=1\n",
    "        list[j+1] = key_value\n",
    "\n",
    "list = [2,8,5,3,9,4]\n",
    "insertion_sort2(list)\n",
    "list"
   ]
  },
  {
   "cell_type": "code",
   "execution_count": 23,
   "id": "f7e660c5-9688-4364-a8ba-46b289128bcf",
   "metadata": {},
   "outputs": [
    {
     "data": {
      "text/plain": [
       "[10, 16, 19, 20, 35, 43, 47, 56, 64]"
      ]
     },
     "execution_count": 23,
     "metadata": {},
     "output_type": "execute_result"
    }
   ],
   "source": [
    "def insertion_sort3(list):\n",
    "    n = len(list)\n",
    "    for i in range(1,n):\n",
    "        key = list[i]\n",
    "        j = i-1\n",
    "        while(j>=0 and key < list[j]):\n",
    "            list[j+1] = list[j]\n",
    "            j -= 1\n",
    "        list[j+1] = key\n",
    "\n",
    "\n",
    "\n",
    "__test = [19,10,20,47,64,35,16,56,43]\n",
    "insertion_sort3(__test)\n",
    "__test"
   ]
  }
 ],
 "metadata": {
  "kernelspec": {
   "display_name": "Python 3 (ipykernel)",
   "language": "python",
   "name": "python3"
  },
  "language_info": {
   "codemirror_mode": {
    "name": "ipython",
    "version": 3
   },
   "file_extension": ".py",
   "mimetype": "text/x-python",
   "name": "python",
   "nbconvert_exporter": "python",
   "pygments_lexer": "ipython3",
   "version": "3.12.4"
  }
 },
 "nbformat": 4,
 "nbformat_minor": 5
}

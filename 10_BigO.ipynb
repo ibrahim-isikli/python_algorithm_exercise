{
 "cells": [
  {
   "cell_type": "markdown",
   "id": "ff61c163-83b5-49e7-9a1b-a218225f5b8a",
   "metadata": {},
   "source": [
    "## Algoritma analizi ve Big-O\n",
    "https://youtu.be/3bhBo9YCTpo?list=PLh9ECzBB8tJPTWIUbZjHZMMGuZcpHUv5h"
   ]
  },
  {
   "cell_type": "markdown",
   "id": "88383ba5-f064-44fa-9958-e8dd663101cf",
   "metadata": {},
   "source": [
    "        algoritmanin ozellikleri\n",
    "    Input\n",
    "    Output\n",
    "    Definiteness (kesimlik) : algoritmanin adimlari belli olmasi beklenir\n",
    "    Correctness (dogruluk)  : butun girdiler icin algoritmanin tanimli olmasi beklenir\n",
    "    Finiteness (sonluluk) : calisma adimlarinin sonlu olmasi beklenir\n",
    "    Effectiveness (Verimlilik)\n",
    "    Generality (genellenebilirlik) : secili küme icin genellenebilir olmali"
   ]
  },
  {
   "cell_type": "code",
   "execution_count": 22,
   "id": "fac36868-c9c3-4042-b0f2-d6e6b4be0f1d",
   "metadata": {},
   "outputs": [],
   "source": [
    "# ORN1 : Bir kumede bulunan en buyuk degeri bulan kod"
   ]
  },
  {
   "cell_type": "code",
   "execution_count": 28,
   "id": "acd03945-a504-4499-afb4-863b88631544",
   "metadata": {},
   "outputs": [
    {
     "data": {
      "text/plain": [
       "105"
      ]
     },
     "execution_count": 28,
     "metadata": {},
     "output_type": "execute_result"
    }
   ],
   "source": [
    "def max_bul(list):\n",
    "    n=len(list)\n",
    "    max=list[0]\n",
    "    for i in range(1,n-1):\n",
    "        if max < list[i]:\n",
    "            max = list[i]\n",
    "    return max\n",
    "\n",
    "\n",
    "test_list= [37,62,96,105,12,7,53,72]\n",
    "\n",
    "max_bul(test_list)\n",
    "    "
   ]
  },
  {
   "cell_type": "code",
   "execution_count": 30,
   "id": "4e3d7520-af2f-4a0b-96b3-a5c1e171718b",
   "metadata": {},
   "outputs": [],
   "source": [
    "# ORN2: Lineer research"
   ]
  },
  {
   "cell_type": "code",
   "execution_count": 36,
   "id": "15ed457e-269f-4fb5-876f-26f4546eb8b6",
   "metadata": {},
   "outputs": [
    {
     "data": {
      "text/plain": [
       "4"
      ]
     },
     "execution_count": 36,
     "metadata": {},
     "output_type": "execute_result"
    }
   ],
   "source": [
    "def lineer_research(x,list):\n",
    "    i = 0\n",
    "    n = len(list)\n",
    "    while(i<=n and x != list[i]):\n",
    "        i+=1\n",
    "        if(i<=n):\n",
    "            konum = i\n",
    "        else:\n",
    "            konum = 0\n",
    "    return konum\n",
    "\n",
    "lineer_research(12,test_list)"
   ]
  },
  {
   "cell_type": "code",
   "execution_count": 38,
   "id": "c6cc4304-b92b-48a8-8df8-f0034c1b2131",
   "metadata": {},
   "outputs": [],
   "source": [
    "# ORN2: Binary research"
   ]
  },
  {
   "cell_type": "code",
   "execution_count": 58,
   "id": "5e086848-6e80-40b4-beb1-ce1a14a556dc",
   "metadata": {},
   "outputs": [
    {
     "data": {
      "text/plain": [
       "2"
      ]
     },
     "execution_count": 58,
     "metadata": {},
     "output_type": "execute_result"
    }
   ],
   "source": [
    "def binary_research(x,list):\n",
    "    n = len(list)\n",
    "    i=0 # sol sinir\n",
    "    j=n # sag sinir\n",
    "    while(i<j):\n",
    "        mid = (i+j)//2\n",
    "        if x > list[mid]:\n",
    "            i = mid+1\n",
    "        else:\n",
    "            j= mid\n",
    "    if(x==list[i]):\n",
    "        konum = i\n",
    "    else:\n",
    "        konum = 0\n",
    "    return konum\n",
    "\n",
    "test_list = [1, 3, 5, 7, 9, 11, 12, 15, 18]\n",
    "binary_research(5,test_list)\n",
    "\n"
   ]
  },
  {
   "cell_type": "markdown",
   "id": "1ffbf22e-cd93-461e-894e-a7b3b61c4b83",
   "metadata": {},
   "source": [
    "        KARMASIKLIK (COMPLEXITY)\n",
    "\n",
    "        girdi eleman sayisi kucukse space ve time karmasikliklari onemli degildir\n",
    "        girdi seleman sayisi buyukse onemlidir\n",
    "\n",
    "        Algoritmanin karmasikligindaki buyume \"growth\", buyume hizi ise \"big-o \"\n",
    "\n",
    "        Tanim : f ve g reel sayilardan reel sayilara tanimli iki fonksiyon olsun.\n",
    "        f(x) fonksiyonu icin c ve k sabit sayilar olmak üzere O(g(x)) asagidaki gibi tanimlanir\n",
    "        |f(x)| <= c*|g(x)|+k\n",
    "        x>k olmak kosulu ile\n",
    "\n",
    "        yani sabit degerle toplamak ve carpmak cok da onemli degil, ussel ve logaritmik degisimler onemli"
   ]
  },
  {
   "cell_type": "code",
   "execution_count": 62,
   "id": "e6aa7fe6-a8e4-4fb9-a45d-2b83f3b70603",
   "metadata": {},
   "outputs": [],
   "source": [
    "# ORN3  \n",
    "# f(x) = x^2 + 2x + 1 fonksiyonunun, buyume fonksiyonunun x^2 oldugunu gosterin. Yani O(x^2)\n",
    "\n",
    "# burada k = 1  \n",
    "# x > 1 icin\n",
    "# x^2 + 2*x + 1 <= x^2 + 2*x^2 + x^2\n",
    "# x^2 + 2*x + 1 <= 4*x^2 \n",
    "\n",
    "# OYLEYSE c = 4 ve k= 1 icin\n",
    "# f(x) <= c*x^2 + k     , x > k ixin\n",
    "# f(x) is O(x^2)\n",
    " "
   ]
  },
  {
   "cell_type": "markdown",
   "id": "edcd7634-5b44-447f-abc8-721482a28309",
   "metadata": {},
   "source": [
    "## fonksiyonların buyumesi\n",
    "    En yavastan en hizliya\n",
    "    1\n",
    "    log n\n",
    "    n\n",
    "    n log n\n",
    "    n^2\n",
    "    n^3\n",
    "    2^n\n",
    "    n!"
   ]
  },
  {
   "cell_type": "markdown",
   "id": "6d234bd7-035e-4804-b1fd-efca9ef6bb0a",
   "metadata": {},
   "source": [
    "# ornek\n",
    "\n",
    "    •Aşağıdaki algoritma ne işe yarar?\n",
    "\n",
    "    •Procedure gizemli (a₁, a₂, a_n: integers)\n",
    "    •m := 0\n",
    "    •for i = 1 to n-1\n",
    "         • for j=i+1 to n\n",
    "         •if |a, -aa;; | | >m then m := = |a; - − a;|\n",
    "    •{m verilen girdideki herhangi iki sayı arasındaki en uzak   mesafeyi verir}\n",
    " \n",
    "    •Karşılaştırma: n-1 + n-2 + n-3 + ... + 1\n",
    "    = (n-1)n/2 = 0.5n² - 0.5n\n",
    "    •Zaman karmaşıklığı O(n²)."
   ]
  },
  {
   "cell_type": "code",
   "execution_count": null,
   "id": "d447e8a0-0fdc-4875-9ce1-d38ff778f14d",
   "metadata": {},
   "outputs": [],
   "source": [
    "   ### Ayni problemi çözen farklı bir algoritma\n",
    "    \n",
    "    •procedure max_diff(a₁, a₂, ….., nɲ: : integers\n",
    "    \n",
    "•min = a    \r\n",
    "•max :=     1\r\n",
    "•for i = 2 t        o n\r\n",
    "if a < min then min :         a;\r\n",
    "• else if a > max then max     := a;\r\n",
    "m = \n",
    "    ax-min\r\n",
    "•Karşılaştırma Sayıları:     2n - 2\r\n",
    "•Zaman Karmaşıklığı O(n)."
   ]
  }
 ],
 "metadata": {
  "kernelspec": {
   "display_name": "Python 3 (ipykernel)",
   "language": "python",
   "name": "python3"
  },
  "language_info": {
   "codemirror_mode": {
    "name": "ipython",
    "version": 3
   },
   "file_extension": ".py",
   "mimetype": "text/x-python",
   "name": "python",
   "nbconvert_exporter": "python",
   "pygments_lexer": "ipython3",
   "version": "3.12.4"
  }
 },
 "nbformat": 4,
 "nbformat_minor": 5
}

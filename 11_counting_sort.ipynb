{
 "cells": [
  {
   "cell_type": "markdown",
   "id": "82413f37-38da-4c5d-a257-c8dc4a65203b",
   "metadata": {},
   "source": [
    "### COUNTING SORT\n",
    "https://youtu.be/fkX5Zy1qL7Y?list=PLh9ECzBB8tJPTWIUbZjHZMMGuZcpHUv5h"
   ]
  },
  {
   "cell_type": "code",
   "execution_count": 9,
   "id": "81b812fa-f298-4d43-a388-be2c68fdded4",
   "metadata": {},
   "outputs": [
    {
     "name": "stdout",
     "output_type": "stream",
     "text": [
      "Sıralanmadan önceki dizi: [4, 2, 2, 8, 3, 3, 1]\n",
      "[0, 1, 2, 2, 1, 0, 0, 0, 1]\n",
      "Sıralandıktan sonraki dizi: [1, 2, 2, 3, 3, 4, 8]\n"
     ]
    }
   ],
   "source": [
    "def countingSort(arr):\n",
    "    # Dizideki en büyük değeri bul\n",
    "    max_val = max(arr)   # max_val = 8\n",
    "    \n",
    "    # Sayım dizisini oluştur       [0,1,2,3,4,5,6,7,8]\n",
    "    count = [0] * (max_val + 1)  # [0,0,0,0,0,0,0,0,0]\n",
    "\n",
    "    # Elemanların sayısını artır\n",
    "    for num in arr:             # num sirayla 4 2 2 8 3 3 1 oluyor   count[4] = 1  count[2] = 1  count[2]= 2 [0, 1, 2, 3, 4, 5, 6, 7, 8]\n",
    "        count[num] += 1                                                                                    # [0, 1, 2, 2, 1, 0, 0, 0, 1]\n",
    "    \n",
    "    # Çıktı dizisini oluştur\n",
    "    output = []\n",
    "    for i in range(len(count)):            # 0*0=0  [1]*1=1 bir tane bir ekle [2]*2=[2,2] ...\n",
    "        output.extend([i] * count[i])\n",
    "\n",
    "    return output\n",
    "\n",
    "# Örnek kullanım\n",
    "arr = [4, 2, 2, 8, 3, 3, 1]\n",
    "print(\"Sıralanmadan önceki dizi:\", arr)\n",
    "\n",
    "sorted_arr = countingSort(arr)\n",
    "print(\"Sıralandıktan sonraki dizi:\", sorted_arr)\n"
   ]
  },
  {
   "cell_type": "code",
   "execution_count": 1,
   "id": "9f81c05d-fe79-44ca-914f-5d15e69d57ed",
   "metadata": {},
   "outputs": [
    {
     "name": "stdout",
     "output_type": "stream",
     "text": [
      "siralanmamis orijinal dizi: [23, 43, 65, 12, 17, 35, 30, 14, 26, 23, 52, 49]\n",
      "siralanmis dizi: [12, 14, 17, 23, 23, 26, 30, 35, 43, 49, 52, 65]\n"
     ]
    }
   ],
   "source": [
    "\n",
    "def counting_sort(list):\n",
    "    max_value = max(list)\n",
    "    count = [0]*(max_value+1)\n",
    "    for i in list:\n",
    "        count[i]+=1\n",
    "    output = []\n",
    "    for j in range(len(count)):\n",
    "        output.extend([j]*count[j])\n",
    "    return output\n",
    "\n",
    "list = [23,43,65,12,17,35,30,14,26,23,52,49]\n",
    "print(\"siralanmamis orijinal dizi:\",list)\n",
    "sort_list=counting_sort(list)\n",
    "print(\"siralanmis dizi:\",sort_list)"
   ]
  }
 ],
 "metadata": {
  "kernelspec": {
   "display_name": "Python 3 (ipykernel)",
   "language": "python",
   "name": "python3"
  },
  "language_info": {
   "codemirror_mode": {
    "name": "ipython",
    "version": 3
   },
   "file_extension": ".py",
   "mimetype": "text/x-python",
   "name": "python",
   "nbconvert_exporter": "python",
   "pygments_lexer": "ipython3",
   "version": "3.12.4"
  }
 },
 "nbformat": 4,
 "nbformat_minor": 5
}

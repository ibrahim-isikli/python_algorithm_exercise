{
 "cells": [
  {
   "cell_type": "markdown",
   "id": "6264fd88-6c43-4179-8ac1-ff7e5233e90e",
   "metadata": {},
   "source": [
    "### RADIX SORT"
   ]
  },
  {
   "cell_type": "markdown",
   "id": "a66a9a25-275d-42d7-a090-8feb58b3bdc7",
   "metadata": {},
   "source": [
    "https://youtu.be/M1hABszC9gU?list=PLh9ECzBB8tJPTWIUbZjHZMMGuZcpHUv5h\n",
    "\n",
    "birler basamagina bakip siralar sonra\n",
    "onlar basamagina bakip siralar sonra\n",
    "yuzler basamagına bakip siralar"
   ]
  },
  {
   "cell_type": "markdown",
   "id": "4119af3b-8df8-4db6-99e2-7d0c65364929",
   "metadata": {},
   "source": [
    "    [55,45,35,33,38,48]\n",
    "    33,55,45,35,38,48\n",
    "    33,35,38,45,48,55"
   ]
  },
  {
   "cell_type": "code",
   "execution_count": 7,
   "id": "fd8b99e0-7f7f-42c1-be27-0e6729d2f789",
   "metadata": {},
   "outputs": [
    {
     "name": "stdout",
     "output_type": "stream",
     "text": [
      "Sıralanmadan önceki dizi:\n",
      "[170, 45, 75, 90, 802, 24, 2, 66]\n",
      "Sıralandıktan sonraki dizi:\n",
      "[2, 24, 45, 66, 75, 90, 170, 802]\n"
     ]
    }
   ],
   "source": [
    "# Yardımcı fonksiyon: Dizideki en büyük sayıyı bulur\n",
    "def getMax(arr, n):\n",
    "    max_val = arr[0]\n",
    "    for i in range(1, n):\n",
    "        if arr[i] > max_val:\n",
    "            max_val = arr[i]\n",
    "    return max_val\n",
    "\n",
    "# Verilen basamağa göre Counting Sort uygular\n",
    "def countSort(arr, n, exp):\n",
    "    output = [0] * n  # Çıktı dizisi (sonuç burada tutulacak)\n",
    "    count = [0] * 10  # 0-9 basamak değerleri için sayma dizisi\n",
    "\n",
    "    # Her elemanın exp basamağındaki değeri sayılır\n",
    "    for i in range(n):\n",
    "        index = (arr[i] // exp) % 10\n",
    "        count[index] += 1\n",
    "\n",
    "    # Cumulative count işlemi yapılır\n",
    "    for i in range(1, 10):\n",
    "        count[i] += count[i - 1]\n",
    "\n",
    "    # Çıktı dizisini oluşturmak için diziyi tersten gez\n",
    "    i = n - 1\n",
    "    while i >= 0:\n",
    "        index = (arr[i] // exp) % 10\n",
    "        output[count[index] - 1] = arr[i]\n",
    "        count[index] -= 1\n",
    "        i -= 1\n",
    "\n",
    "    # Çıktıyı orijinal diziye kopyala\n",
    "    for i in range(n):\n",
    "        arr[i] = output[i]\n",
    "\n",
    "# Radix sort fonksiyonu\n",
    "def radixsort(arr):\n",
    "    n = len(arr)\n",
    "    # Dizideki en büyük sayıyı bul\n",
    "    m = getMax(arr, n)\n",
    "\n",
    "    # Her basamak için counting sort uygula\n",
    "    exp = 1\n",
    "    while m // exp > 0:\n",
    "        countSort(arr, n, exp)\n",
    "        exp *= 10\n",
    "\n",
    "# Test et\n",
    "arr = [170, 45, 75, 90, 802, 24, 2, 66]\n",
    "print(\"Sıralanmadan önceki dizi:\")\n",
    "print(arr)\n",
    "\n",
    "radixsort(arr)\n",
    "\n",
    "print(\"Sıralandıktan sonraki dizi:\")\n",
    "print(arr)\n"
   ]
  },
  {
   "cell_type": "code",
   "execution_count": null,
   "id": "b439ee19-7bd4-4d0d-b5f0-35f791fab996",
   "metadata": {},
   "outputs": [],
   "source": []
  }
 ],
 "metadata": {
  "kernelspec": {
   "display_name": "Python 3 (ipykernel)",
   "language": "python",
   "name": "python3"
  },
  "language_info": {
   "codemirror_mode": {
    "name": "ipython",
    "version": 3
   },
   "file_extension": ".py",
   "mimetype": "text/x-python",
   "name": "python",
   "nbconvert_exporter": "python",
   "pygments_lexer": "ipython3",
   "version": "3.12.4"
  }
 },
 "nbformat": 4,
 "nbformat_minor": 5
}

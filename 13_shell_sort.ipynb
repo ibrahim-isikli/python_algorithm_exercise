{
 "cells": [
  {
   "cell_type": "markdown",
   "id": "91ccd43e-3d88-41e9-ba35-0984d3ff0c91",
   "metadata": {},
   "source": [
    "### SHELL SHORT\n",
    "    https://youtu.be/pgas4Q-ibiA?list=PLh9ECzBB8tJPTWIUbZjHZMMGuZcpHUv5h\n",
    "    https://youtu.be/zJLbQd8buxo\n",
    "    Bubble sort kullanir\n",
    "    Bazi yerlerde insertion sort ile de kullanmis"
   ]
  },
  {
   "cell_type": "code",
   "execution_count": 9,
   "id": "0615ff8c-1b2a-4510-8872-6ab2d216257d",
   "metadata": {},
   "outputs": [
    {
     "data": {
      "text/plain": [
       "[0, 1, 2, 3, 5, 7, 8, 9]"
      ]
     },
     "execution_count": 9,
     "metadata": {},
     "output_type": "execute_result"
    }
   ],
   "source": [
    "def bubble_sort_tekrari(list):\n",
    "    n=len(list)\n",
    "    for i in range(n):\n",
    "        for j in range(n-1-i):\n",
    "            if list[j]>list[j+1]:\n",
    "                list[j],list[j+1]=list[j+1],list[j]\n",
    "    \n",
    "\n",
    "list = [3,2,7,5,9,0,1,8]    \n",
    "bubble_sort_tekrari(list)\n",
    "list"
   ]
  },
  {
   "cell_type": "code",
   "execution_count": 42,
   "id": "277a4baa-1b25-4d6d-8e15-33ba7df71cd3",
   "metadata": {},
   "outputs": [
    {
     "name": "stdout",
     "output_type": "stream",
     "text": [
      "8\n"
     ]
    },
    {
     "data": {
      "text/plain": [
       "[0, 1, 2, 3, 5, 7, 8, 9]"
      ]
     },
     "execution_count": 42,
     "metadata": {},
     "output_type": "execute_result"
    }
   ],
   "source": [
    "def shell_sort(list):\n",
    "    n=len(list)\n",
    "    k = n    # k = 8\n",
    "    while k>1:\n",
    "         # Gap (k) hesaplama\n",
    "        k = (k * 5 - 1) // 11 if k >= 5 else 1     # k = (8*5-1) = 39 // 11 = 3   i = 2     # k = (3*5-1) = 14 // 11 = 1   i = 0\n",
    "        i = k - 1\n",
    "        for i in range(n):\n",
    "            for j in range(n-1-i):\n",
    "                if list[j]>list[j+1]:\n",
    "                    list[j],list[j+1]=list[j+1],list[j]\n",
    "        \n",
    "\n",
    "list2 = [3,2,7,5,9,0,1,8]    \n",
    "shell_sort(list2)\n",
    "list2"
   ]
  },
  {
   "cell_type": "code",
   "execution_count": null,
   "id": "4c69553f-930c-4f78-953a-56154e237302",
   "metadata": {},
   "outputs": [],
   "source": []
  }
 ],
 "metadata": {
  "kernelspec": {
   "display_name": "Python 3 (ipykernel)",
   "language": "python",
   "name": "python3"
  },
  "language_info": {
   "codemirror_mode": {
    "name": "ipython",
    "version": 3
   },
   "file_extension": ".py",
   "mimetype": "text/x-python",
   "name": "python",
   "nbconvert_exporter": "python",
   "pygments_lexer": "ipython3",
   "version": "3.12.4"
  }
 },
 "nbformat": 4,
 "nbformat_minor": 5
}

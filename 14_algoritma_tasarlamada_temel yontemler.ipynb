{
 "cells": [
  {
   "cell_type": "markdown",
   "id": "864b5673-b1b9-4604-b30a-833537942e34",
   "metadata": {},
   "source": [
    "     Algoritmaları tasarlamada kullanılacak yöntemler\r",
    "    \n",
    "• Özyineleme    \r\n",
    "• Böl ve fethe    t\r\n",
    "• Bilinen probleme indirge    me\r\n",
    "• Dinamik programl    ama\r\n",
    "• Kaba Seçim veya Haris (Greedy) algorit    ması\r\n",
    "• İhtimali (olasılıksal) çöz    ümler\r\n",
    "• Yaklaşım çöümleri\n"
   ]
  },
  {
   "cell_type": "markdown",
   "id": "441e404b-9106-416f-8a08-a803ddba6169",
   "metadata": {},
   "source": [
    "### Özyineleme (Recursion)\n",
    "\n",
    "Özyineleme, bir problemin küçük parçalara bölünüp her parçanın aynı yöntemle çözülmesidir. Bir fonksiyon, kendisini tekrar çağırır."
   ]
  },
  {
   "cell_type": "markdown",
   "id": "c6a8d5b8-19ba-48a9-beb6-8fd558c06ee6",
   "metadata": {},
   "source": [
    "Örnek: Faktöriyel Hesaplama\n",
    "\n"
   ]
  },
  {
   "cell_type": "code",
   "execution_count": 16,
   "id": "e4204903-1c5c-4257-a625-2a56a28f519e",
   "metadata": {},
   "outputs": [
    {
     "name": "stdout",
     "output_type": "stream",
     "text": [
      "120\n"
     ]
    }
   ],
   "source": [
    "def faktoriyel(n):\n",
    "    if n== 0:\n",
    "        return 1\n",
    "    else:\n",
    "        return n*faktoriyel(n-1)\n",
    "\n",
    "print(faktoriyel(5))"
   ]
  },
  {
   "cell_type": "markdown",
   "id": "f6258d80-bf6c-4004-bb32-0c3c66fcc4a8",
   "metadata": {},
   "source": [
    "### Böl ve Fethet (Divide and Conquer)\n",
    "\n",
    "Bir problemi iki veya daha fazla küçük parçaya bölüp her bir parçayı ayrı ayrı çözmektir. Çözümler birleştirilir."
   ]
  },
  {
   "cell_type": "markdown",
   "id": "76b04c69-ff88-4130-83e2-b0fd96fa36b4",
   "metadata": {},
   "source": [
    "Örnek: Bir dizi içinde hızlı sıralama (Quick Sort)"
   ]
  },
  {
   "cell_type": "code",
   "execution_count": 21,
   "id": "d05cce65-a214-4ccb-92b7-3f497634c6c4",
   "metadata": {},
   "outputs": [
    {
     "name": "stdout",
     "output_type": "stream",
     "text": [
      "[1, 1, 2, 3, 6, 8, 10]\n"
     ]
    }
   ],
   "source": [
    "def quicksort(arr):\n",
    "    if len(arr) <= 1:\n",
    "        return arr\n",
    "    pivot = arr[len(arr) // 2]\n",
    "    left = [x for x in arr if x < pivot]\n",
    "    middle = [x for x in arr if x == pivot]\n",
    "    right = [x for x in arr if x > pivot]\n",
    "    return quicksort(left) + middle + quicksort(right)\n",
    "\n",
    "print(quicksort([3,6,8,10,1,2,1]))  # [1, 1, 2, 3, 6, 8, 10]\n"
   ]
  },
  {
   "cell_type": "markdown",
   "id": "adfde92a-231b-4829-a52d-9434b78d2997",
   "metadata": {},
   "source": [
    "### Bilinen Probleme İndirgeme\n",
    "Zor bir problemi, daha önce çözülmüş bir probleme dönüştürme yöntemidir."
   ]
  },
  {
   "cell_type": "markdown",
   "id": "be683b44-9b56-4dc5-954c-7d1aa4cd4e11",
   "metadata": {},
   "source": [
    "Örnek: İki sayı arasındaki en büyük ortak bölen (GCD), Öklid algoritması kullanılarak bulunabilir."
   ]
  },
  {
   "cell_type": "code",
   "execution_count": 27,
   "id": "0fef3541-6f52-40fe-b239-71193997246b",
   "metadata": {},
   "outputs": [
    {
     "name": "stdout",
     "output_type": "stream",
     "text": [
      "6\n"
     ]
    }
   ],
   "source": [
    "def gcd(a, b):\n",
    "    if b == 0:\n",
    "        return a\n",
    "    else:\n",
    "        return gcd(b, a % b)\n",
    "                                       #(18, 48%18) -> (18,12) \n",
    "                                       #(12, 18%12) -> (12,6)\n",
    "                                       #(6, 12%6) -> (6,0) b=0 return a = 6\n",
    "print(gcd(48, 18))  # 6\n"
   ]
  },
  {
   "cell_type": "markdown",
   "id": "07d03b9e-9a7d-4c04-b0e2-7017492da99d",
   "metadata": {},
   "source": [
    "### Dinamik Programlama (Dynamic Programming)\n",
    "Bir problemi alt problemlere bölüp her alt problemi yalnızca bir kez çözerek saklamak. Aynı problemi tekrar çözmek yerine kaydedilmiş çözümü kullanır."
   ]
  },
  {
   "cell_type": "markdown",
   "id": "b2a8e78c-c3d5-471b-b6d1-6fd4ead3f819",
   "metadata": {},
   "source": [
    "Örnek: Fibonacci Serisi (bir önceki sayiyi toplar 0 1 2 3 5 8 13 21 34 55)"
   ]
  },
  {
   "cell_type": "code",
   "execution_count": 42,
   "id": "0c574f1b-ea4e-44fc-bb31-1693343534d7",
   "metadata": {},
   "outputs": [
    {
     "name": "stdout",
     "output_type": "stream",
     "text": [
      "55\n"
     ]
    },
    {
     "data": {
      "text/plain": [
       "[2, 4, 65, 76, 243543]"
      ]
     },
     "execution_count": 42,
     "metadata": {},
     "output_type": "execute_result"
    }
   ],
   "source": [
    "def fibonacci(n):\n",
    "    fib = [0, 1]\n",
    "    for i in range(2, n+1):             # 2'den 11 e i = 2  ,   3\n",
    "        fib.append(fib[i-1] + fib[i-2]) # fib[1] + fib[0]      fib[2] + fib[1]\n",
    "    return fib[n]\n",
    "\n",
    "print(fibonacci(10))  # 55\n"
   ]
  },
  {
   "cell_type": "markdown",
   "id": "727b6e3b-6c05-461a-a1b5-3e11fefb89b5",
   "metadata": {},
   "source": [
    "### Kaba Seçim veya Haris (Greedy) Algoritması\n",
    "Her adımda o an için en iyi görünen (en yüksek faydayı sağlayan) seçimi yapar. Ancak, bu yöntem her zaman optimal çözüm vermez."
   ]
  },
  {
   "cell_type": "markdown",
   "id": "ae3c8dba-278f-4fb0-bd46-9f6f2197ad19",
   "metadata": {},
   "source": [
    "Örnek: Bozuk para problemi (minimum para sayısı ile öde)"
   ]
  },
  {
   "cell_type": "markdown",
   "id": "5a8bcc8b-aac0-442e-877b-0b1d5623a756",
   "metadata": {},
   "source": [
    "Bize verilen bir miktar para var ve bu miktarı en az sayıda banknot ile karşılamak istiyoruz. Gerçek hayattada sıkça karşılaşılan bir problemi aslında greedy yaklaşımı ile çözüyoruz.\r\n",
    "\r\n",
    "Örneğin\r\n",
    "\r\n",
    "Input: V = 70 TL\r\n",
    "Output: 2\r\n",
    "50 TL + 20 TL = 70 TL\r\n",
    "\r\n",
    "Input: V = 121 TL\r\n",
    "Output: 3\r\n",
    "100 TL + 20 TL + 1 TL = 121 TL"
   ]
  },
  {
   "cell_type": "code",
   "execution_count": 77,
   "id": "edcaed23-946a-4783-97ac-063d702f70d3",
   "metadata": {},
   "outputs": [
    {
     "name": "stdout",
     "output_type": "stream",
     "text": [
      "[25, 10, 1, 1]\n"
     ]
    }
   ],
   "source": [
    "def greedy_coin_change(coins, amount):\n",
    "    coins.sort(reverse=True)    # [25, 10, 5, 1]\n",
    "    result = []\n",
    "    for coin in coins:           # 25 10 5 1\n",
    "        while amount >= coin:   # [ 25 ] 37 >= 25   37 = (35-25)  amount = 12,  12 >= 10   12 = 12 - 10   amount = 2,   # [ 2>=10 2>=5 gecti] # 2>=1  ammount 1   1>=1 amount = 0 cik \n",
    "            amount -= coin\n",
    "            result.append(coin) # 25 10  1 1\n",
    "    return result\n",
    "\n",
    "print(greedy_coin_change([1, 5, 10, 25], 37))  # [25, 10, 1, 1]\n"
   ]
  },
  {
   "cell_type": "markdown",
   "id": "ac9fe760-dd60-4370-9e96-1d828cd96060",
   "metadata": {},
   "source": [
    "###  İhtimali (Olasılıksal) Çözümler\n",
    "Belirli olasılıklara dayalı olarak çalışan algoritmalardır. Kesin bir çözüm yerine, yeterince iyi çözüm sunar."
   ]
  },
  {
   "cell_type": "markdown",
   "id": "14fb5480-c44d-4383-8cf4-0e68afff6928",
   "metadata": {},
   "source": [
    "Örnek: Monte Carlo algoritması ile Pi sayısını tahmin etme"
   ]
  },
  {
   "cell_type": "code",
   "execution_count": 81,
   "id": "3dea2695-5cf2-464e-91b0-1a7a4d9d43ea",
   "metadata": {},
   "outputs": [
    {
     "name": "stdout",
     "output_type": "stream",
     "text": [
      "3.138\n"
     ]
    }
   ],
   "source": [
    "import random\n",
    "\n",
    "def estimate_pi(num_points):\n",
    "    inside_circle = 0\n",
    "    for _ in range(num_points):\n",
    "        x, y = random.random(), random.random()\n",
    "        if x**2 + y**2 <= 1:\n",
    "            inside_circle += 1\n",
    "    return (inside_circle / num_points) * 4\n",
    "\n",
    "print(estimate_pi(10000))  # Yaklaşık 3.14\n"
   ]
  },
  {
   "cell_type": "markdown",
   "id": "377e4459-4893-48b6-b3b0-df3d6415b097",
   "metadata": {},
   "source": [
    "### Yaklaşım Çözümleri (Approximation Algorithms)\n",
    "Zor bir problemi hızlıca çözmek için kullanılan ve tam çözüm yerine yaklaşık bir çözüm sunan algoritmalardır."
   ]
  },
  {
   "cell_type": "markdown",
   "id": "a3137a55-d896-40ea-be91-486202212f27",
   "metadata": {},
   "source": [
    "Örnek: Gezgin Satıcı Problemi için basit bir yaklaşım"
   ]
  },
  {
   "cell_type": "code",
   "execution_count": 85,
   "id": "090bd42e-9b68-466b-87b5-d7ea07e73fe7",
   "metadata": {},
   "outputs": [
    {
     "name": "stdout",
     "output_type": "stream",
     "text": [
      "((0, 1, 3, 2), 80)\n"
     ]
    }
   ],
   "source": [
    "import itertools\n",
    "\n",
    "def tsp_approximation(cities, distances):\n",
    "    n = len(cities)\n",
    "    min_distance = float('inf')\n",
    "    best_path = None\n",
    "    for perm in itertools.permutations(cities):\n",
    "        distance = 0\n",
    "        for i in range(n):\n",
    "            distance += distances[perm[i-1]][perm[i]]\n",
    "        if distance < min_distance:\n",
    "            min_distance = distance\n",
    "            best_path = perm\n",
    "    return best_path, min_distance\n",
    "\n",
    "cities = [0, 1, 2, 3]\n",
    "distances = [[0, 10, 15, 20], [10, 0, 35, 25], [15, 35, 0, 30], [20, 25, 30, 0]]\n",
    "print(tsp_approximation(cities, distances))\n"
   ]
  },
  {
   "cell_type": "code",
   "execution_count": null,
   "id": "01f44a1e-2a37-4c02-a519-879f20ffd334",
   "metadata": {},
   "outputs": [],
   "source": []
  }
 ],
 "metadata": {
  "kernelspec": {
   "display_name": "Python 3 (ipykernel)",
   "language": "python",
   "name": "python3"
  },
  "language_info": {
   "codemirror_mode": {
    "name": "ipython",
    "version": 3
   },
   "file_extension": ".py",
   "mimetype": "text/x-python",
   "name": "python",
   "nbconvert_exporter": "python",
   "pygments_lexer": "ipython3",
   "version": "3.12.4"
  }
 },
 "nbformat": 4,
 "nbformat_minor": 5
}

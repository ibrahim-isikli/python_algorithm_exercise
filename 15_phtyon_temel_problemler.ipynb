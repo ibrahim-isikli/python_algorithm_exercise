{
 "cells": [
  {
   "cell_type": "markdown",
   "id": "dc441220-4fea-42bc-a863-f993d242b16e",
   "metadata": {},
   "source": [
    "### faktoriyel"
   ]
  },
  {
   "cell_type": "code",
   "execution_count": 29,
   "id": "42538b2d-41ab-409c-8f3e-ce300bb7cb38",
   "metadata": {},
   "outputs": [
    {
     "data": {
      "text/plain": [
       "120"
      ]
     },
     "execution_count": 29,
     "metadata": {},
     "output_type": "execute_result"
    }
   ],
   "source": [
    "def faktoriyel(n):\n",
    "    if n == 0:\n",
    "        return 1\n",
    "    else:\n",
    "        return n * faktoriyel(n-1)  \n",
    "        \n",
    "faktoriyel(5)\n",
    "# 5 * faktoriyel(4) -> 5 * 4 * faktoriyel(3) -> 5 * 4 * 3 * faktoriyel(2)  -> 5 * 4 * 3 * 2 * faktoriyel(1) -> 5 * 4 * 3 * 2 * 1 * faktoriyel(0) -> 5 * 4 * 3 * 2 * 1 * 1\n",
    "# faktoriyel 0 da aslinda 1"
   ]
  },
  {
   "cell_type": "code",
   "execution_count": 31,
   "id": "06800321-fb8d-481a-8a63-26c0e76e2d97",
   "metadata": {},
   "outputs": [
    {
     "data": {
      "text/plain": [
       "720"
      ]
     },
     "execution_count": 31,
     "metadata": {},
     "output_type": "execute_result"
    }
   ],
   "source": [
    "def faktoriyel_2(n):\n",
    "    sonuc = 1\n",
    "    for i in range (1,n+1):\n",
    "        sonuc = i * sonuc\n",
    "    return sonuc\n",
    "\n",
    "faktoriyel_2(6)"
   ]
  },
  {
   "cell_type": "code",
   "execution_count": 35,
   "id": "6477145d-85a1-4152-9e3b-98149f1f5ea7",
   "metadata": {},
   "outputs": [
    {
     "data": {
      "text/plain": [
       "24"
      ]
     },
     "execution_count": 35,
     "metadata": {},
     "output_type": "execute_result"
    }
   ],
   "source": [
    "def factorial(num):\n",
    "    f = 1\n",
    "    for i in range(1,num+1):\n",
    "        f *= i\n",
    "    return f\n",
    "\n",
    "factorial(4)"
   ]
  },
  {
   "cell_type": "code",
   "execution_count": 7,
   "id": "1e721b1d-d06f-4ac0-9bc4-4085c82d597a",
   "metadata": {},
   "outputs": [
    {
     "name": "stdout",
     "output_type": "stream",
     "text": [
      "faktoriyel_al_recursive(5)=120\n",
      "faktoriyel_al_loop5)=120\n"
     ]
    }
   ],
   "source": [
    "def faktoriyel_al_recursive(num):\n",
    "    if num == 0:\n",
    "        return 1\n",
    "    return num * faktoriyel_al_recursive(num-1)\n",
    "\n",
    "def faktoriyel_al_loop(num):\n",
    "    toplam = 1\n",
    "    for i in range(1,num+1):\n",
    "        toplam = toplam * i\n",
    "    return toplam\n",
    "\n",
    "\n",
    "print(\"faktoriyel_al_recursive({})={}\".format(5,faktoriyel_al_recursive(5)))\n",
    "print(\"faktoriyel_al_loop{})={}\".format(5,faktoriyel_al_loop(5)))\n",
    "        "
   ]
  },
  {
   "cell_type": "markdown",
   "id": "4059b340-bb42-494d-89a3-2e7f6180593c",
   "metadata": {},
   "source": [
    "### Kelimenin tersi"
   ]
  },
  {
   "cell_type": "code",
   "execution_count": 138,
   "id": "635aa777-3485-4ed1-b94a-9d824de7358a",
   "metadata": {},
   "outputs": [
    {
     "name": "stdout",
     "output_type": "stream",
     "text": [
      "23\n",
      "13\n",
      "4321\n"
     ]
    }
   ],
   "source": [
    "deneme = \"1234\"\n",
    "print(deneme[1:3:1])\n",
    "print(deneme[0:4:2])\n",
    "print(deneme[::-1])"
   ]
  },
  {
   "cell_type": "code",
   "execution_count": 140,
   "id": "fb945bdf-e577-4ec7-bea5-5eb57167dab0",
   "metadata": {},
   "outputs": [
    {
     "name": "stdout",
     "output_type": "stream",
     "text": [
      "istanbul:  lubnatsi\n",
      "ankara:  arakna\n"
     ]
    }
   ],
   "source": [
    "def reverse(str):\n",
    "    return str[::-1]\n",
    "\n",
    "print(\"istanbul: \",reverse(\"istanbul\"))\n",
    "print(\"ankara: \",reverse(\"ankara\"))"
   ]
  },
  {
   "cell_type": "code",
   "execution_count": 227,
   "id": "8575e2c5-2bf6-4556-9809-879e8cc9acfd",
   "metadata": {},
   "outputs": [
    {
     "data": {
      "text/plain": [
       "'lubnatsi'"
      ]
     },
     "execution_count": 227,
     "metadata": {},
     "output_type": "execute_result"
    }
   ],
   "source": [
    "def reverse_low_level(str):\n",
    "    str_list = list(str)\n",
    "    n = len(str_list)\n",
    "    buffer = [0]*n\n",
    "    for i,k in zip(range(0,n),range(-1,-n-1,-1)):\n",
    "        buffer[i] = str_list[k]\n",
    "    str = ''.join(buffer)\n",
    "    return str\n",
    "    \n",
    "\n",
    "str_test = \"istanbul\"\n",
    "reverse_low_level(str_test)\n",
    "# 0 1 2 3 = -1 -2 -3 -4\n",
    "\n"
   ]
  },
  {
   "cell_type": "code",
   "execution_count": 27,
   "id": "4da16d43-8363-4c07-8172-d54adac13ede",
   "metadata": {},
   "outputs": [
    {
     "name": "stdout",
     "output_type": "stream",
     "text": [
      "girilen kelime :  fenerbahce\n",
      "kelimenin tersi:  echabrenef\n"
     ]
    }
   ],
   "source": [
    "def kelimenin_tersini_yazdir(str_test):\n",
    "    print(\"girilen kelime : \",str_test[::])\n",
    "    print(\"kelimenin tersi: \",str_test[::-1])\n",
    "\n",
    "kelimenin_tersini_yazdir(\"fenerbahce\")"
   ]
  },
  {
   "cell_type": "markdown",
   "id": "14250df1-8163-4da5-997f-3fda6c46912d",
   "metadata": {},
   "source": [
    "### saat cevirme"
   ]
  },
  {
   "cell_type": "code",
   "execution_count": 232,
   "id": "d58f3ec4-676f-4620-9e3d-23ae4e5b6905",
   "metadata": {},
   "outputs": [
    {
     "data": {
      "text/plain": [
       "'2 sa 8 dk'"
      ]
     },
     "execution_count": 232,
     "metadata": {},
     "output_type": "execute_result"
    }
   ],
   "source": [
    "def saat_cevir(dakika):\n",
    "    saat = dakika//60 \n",
    "    dakika = dakika - saat*60\n",
    "    return(\"{} sa {} dk\".format(saat,dakika))\n",
    "\n",
    "saat_cevir(128)"
   ]
  },
  {
   "cell_type": "code",
   "execution_count": 29,
   "id": "0b49e025-c7df-45e8-ae1d-6b9c14a3abab",
   "metadata": {},
   "outputs": [
    {
     "name": "stdout",
     "output_type": "stream",
     "text": [
      "128 :  2:8\n"
     ]
    }
   ],
   "source": [
    "import math\n",
    "\n",
    "def convert_time(num):\n",
    "    saat = int(math.floor(num/60))\n",
    "    dakika = num %60\n",
    "    return str(saat)+\":\"+str(dakika)\n",
    "\n",
    "\n",
    "print(\"128 : \",convert_time(128))\n",
    "    "
   ]
  },
  {
   "cell_type": "code",
   "execution_count": 33,
   "id": "ff0e1b4c-45eb-4e40-a3aa-d2fa9282ca15",
   "metadata": {},
   "outputs": [
    {
     "data": {
      "text/plain": [
       "'20:14:50'"
      ]
     },
     "execution_count": 33,
     "metadata": {},
     "output_type": "execute_result"
    }
   ],
   "source": [
    "def convert_time_2(sec):\n",
    "    hour = sec // 3600\n",
    "    sec = sec % 3600\n",
    "    min = sec // 60\n",
    "    sec = sec % 60\n",
    "    return (\"{}:{}:{}\".format(hour,min,sec))\n",
    "\n",
    "convert_time_2(72890)"
   ]
  },
  {
   "cell_type": "markdown",
   "id": "cdd29615-6694-477c-8465-4a2c7dc679dd",
   "metadata": {},
   "source": [
    "### bas harfi harf buyutme"
   ]
  },
  {
   "cell_type": "code",
   "execution_count": 335,
   "id": "a5419988-4249-48a0-a820-9bd3bbbcacbe",
   "metadata": {},
   "outputs": [
    {
     "name": "stdout",
     "output_type": "stream",
     "text": [
      "Pazartesi\n",
      "Sali\n",
      "Carsamba\n",
      "Persembe\n"
     ]
    }
   ],
   "source": [
    "str = \"pazartesi sali carsamba persembe\"\n",
    "liste = str.split(\" \")\n",
    "n = len(list)\n",
    "\n",
    "for i in range(0,n):\n",
    "    print(liste[i][0:1:].upper() + liste[i][1::])\n",
    "    "
   ]
  },
  {
   "cell_type": "code",
   "execution_count": 343,
   "id": "17b896b8-e687-4c8a-b028-406e79b419d5",
   "metadata": {},
   "outputs": [
    {
     "name": "stdout",
     "output_type": "stream",
     "text": [
      "Phtyon Ogrenmek Cok Zevkli "
     ]
    }
   ],
   "source": [
    "def her_kelimenin_bas_harfini_buyut(str):\n",
    "    liste = str.split(\" \")\n",
    "    n = len(list)\n",
    "    for i in range(0,n):\n",
    "        print(liste[i][0:1:].upper() + liste[i][1::],end=\" \")\n",
    "\n",
    "\n",
    "her_kelimenin_bas_harfini_buyut(\"phtyon ogrenmek cok zevkli\")"
   ]
  },
  {
   "cell_type": "code",
   "execution_count": 349,
   "id": "3e1b83ea-9afc-48bc-89ee-d1c0deff0641",
   "metadata": {},
   "outputs": [
    {
     "name": "stdout",
     "output_type": "stream",
     "text": [
      "Kod Yazmak Cok Iyi Coık Guzel\n"
     ]
    }
   ],
   "source": [
    "def basHarfiBuyukYap(str):\n",
    "    kelimeler = str.split(\" \")\n",
    "    for i in range(0,len(kelimeler)):\n",
    "        kelimeler[i] = kelimeler[i][0].upper() + kelimeler[i][1:]\n",
    "    return \" \".join(kelimeler)\n",
    "                   \n",
    "\n",
    "print(basHarfiBuyukYap(\"kod yazmak cok iyi coık guzel\"))"
   ]
  },
  {
   "cell_type": "code",
   "execution_count": 35,
   "id": "3ff81b44-0a89-48fd-9ac4-05f551f30ce2",
   "metadata": {},
   "outputs": [
    {
     "data": {
      "text/plain": [
       "'Sarayalti Mah Celel Bayar Cad'"
      ]
     },
     "execution_count": 35,
     "metadata": {},
     "output_type": "execute_result"
    }
   ],
   "source": [
    "deneme_str = \"sarayalti mah celel bayar cad\"\n",
    "deneme_str.title()"
   ]
  },
  {
   "cell_type": "code",
   "execution_count": 59,
   "id": "2aaf3eda-02c8-44f2-acf8-ae09f036e6bd",
   "metadata": {},
   "outputs": [
    {
     "name": "stdout",
     "output_type": "stream",
     "text": [
      "['izmir', 'bakircay', 'universitesi']\n",
      "izmir\n",
      "bakircay\n",
      "universitesi\n"
     ]
    },
    {
     "data": {
      "text/plain": [
       "'Izmir Bakircay Universitesi'"
      ]
     },
     "execution_count": 59,
     "metadata": {},
     "output_type": "execute_result"
    }
   ],
   "source": [
    "def kelimelerin_bas_harflerini_buyut(str_test):\n",
    "    kelime_list = str_test.split(\" \")\n",
    "    print(kelime_list)\n",
    "    for i in range(0,len(kelime_list)):\n",
    "        print(kelime_list[i])\n",
    "        kelime_list[i] =kelime_list[i][0].upper() + kelime_list[i][1:]\n",
    "    return \" \".join(kelime_list)\n",
    "\n",
    "\n",
    "kelimelerin_bas_harflerini_buyut(\"izmir bakircay universitesi\")"
   ]
  },
  {
   "cell_type": "code",
   "execution_count": null,
   "id": "17c4209a-b80e-454a-86c3-e0711ed7d599",
   "metadata": {},
   "outputs": [],
   "source": []
  }
 ],
 "metadata": {
  "kernelspec": {
   "display_name": "Python 3 (ipykernel)",
   "language": "python",
   "name": "python3"
  },
  "language_info": {
   "codemirror_mode": {
    "name": "ipython",
    "version": 3
   },
   "file_extension": ".py",
   "mimetype": "text/x-python",
   "name": "python",
   "nbconvert_exporter": "python",
   "pygments_lexer": "ipython3",
   "version": "3.12.4"
  }
 },
 "nbformat": 4,
 "nbformat_minor": 5
}

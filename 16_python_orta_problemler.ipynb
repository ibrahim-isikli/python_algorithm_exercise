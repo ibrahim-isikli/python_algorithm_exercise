{
 "cells": [
  {
   "cell_type": "markdown",
   "id": "bb850c6e-7ab4-466d-b0ec-4b8a100cff69",
   "metadata": {},
   "source": [
    "### Kelime karıştırmak"
   ]
  },
  {
   "cell_type": "code",
   "execution_count": 1,
   "id": "779fb42a-b9fe-447d-98f5-22f5eaba4b33",
   "metadata": {},
   "outputs": [
    {
     "data": {
      "text/plain": [
       "False"
      ]
     },
     "execution_count": 1,
     "metadata": {},
     "output_type": "execute_result"
    }
   ],
   "source": [
    "def kelimeKaristirma(str1,str2):\n",
    "    # str2deki harflere erisim saglamam lazim\n",
    "    for i in str2:\n",
    "        if i not in str1:\n",
    "            return False\n",
    "    return True\n",
    "\n",
    "\n",
    "kelimeKaristirma(\"ankara\",\"kaarna\")\n",
    "kelimeKaristirma(\"ankara\",\"zaarna\")"
   ]
  },
  {
   "cell_type": "code",
   "execution_count": 9,
   "id": "1c11649d-ce2e-47ad-9318-fb56fba2bf59",
   "metadata": {},
   "outputs": [
    {
     "name": "stdout",
     "output_type": "stream",
     "text": [
      "a\n",
      "a\n",
      "b\n",
      "b\n",
      "c\n",
      "c\n"
     ]
    }
   ],
   "source": [
    "def kelime_harf_kontrolu(orginal_str,mixed_str):\n",
    "    for i in mixed_str:\n",
    "        print(i)\n",
    "        if i not in orginal_str:\n",
    "            print(i)\n",
    "            return\n",
    "\n",
    "kelime_harf_kontrolu(\"deneme\",\"abc\")"
   ]
  },
  {
   "cell_type": "markdown",
   "id": "423bf2ef-0cef-42f4-8180-bb8e0d0f0354",
   "metadata": {},
   "source": [
    "### Sıklık Bulma\n",
    "    input = kkwccddd\n",
    "    output = 2kk1w2cc3ddd"
   ]
  },
  {
   "cell_type": "code",
   "execution_count": 20,
   "id": "de7cdb74-42b0-46a4-b6d4-6d10ca2c4b71",
   "metadata": {},
   "outputs": [
    {
     "data": {
      "text/plain": [
       "'2k1w3c2d3e'"
      ]
     },
     "execution_count": 20,
     "metadata": {},
     "output_type": "execute_result"
    }
   ],
   "source": [
    "def siklikBulma(string):\n",
    "    i = 0\n",
    "    final_string = \"\"\n",
    "    # stringin harflerine eris\n",
    "    while i<len(string):\n",
    "        c = string[i]\n",
    "        j = i+1\n",
    "        compressed = [1,c]\n",
    "        while j < len(string):\n",
    "            if string[j] == c:\n",
    "                compressed[0] +=1\n",
    "            else:\n",
    "                break\n",
    "            j += 1\n",
    "        final_string += \"\".join(map(str,compressed))\n",
    "        i = j\n",
    "    return final_string\n",
    "    \n",
    "    # stringin harflerine eris    \n",
    "    # harfin  sonraki indekslerine bak\n",
    "    # birlestir bir string icinde\n",
    "    #return\n",
    "\n",
    "\n",
    "\n",
    "siklikBulma(\"kkwcccddeee\")"
   ]
  },
  {
   "cell_type": "code",
   "execution_count": 27,
   "id": "57f05b2c-bbb8-468e-8ac0-b791a631832e",
   "metadata": {},
   "outputs": [
    {
     "name": "stdout",
     "output_type": "stream",
     "text": [
      "2\n",
      "6\n",
      "11\n",
      "13\n"
     ]
    },
    {
     "data": {
      "text/plain": [
       "'1k3l4m1n'"
      ]
     },
     "execution_count": 27,
     "metadata": {},
     "output_type": "execute_result"
    }
   ],
   "source": [
    "def harflerin_tekrarini_bulma(main_str):\n",
    "    # stringin harflerine eris\n",
    "    i=0\n",
    "    final_str = \"\"\n",
    "    while i<len(main_str):\n",
    "        char_in_str = main_str[i]\n",
    "        i +=1\n",
    "        char_and_cntr = [1,char_in_str]\n",
    "        j = i + 1\n",
    "        # harfin sonraki indekslerine bak\n",
    "        while(j<len(main_str)):\n",
    "            if main_str[j] == char_in_str:\n",
    "                char_and_cntr[0] += 1\n",
    "            else:\n",
    "                break\n",
    "            j+=1\n",
    "        final_str += \"\".join(map(str,char_and_cntr))\n",
    "        print(j)\n",
    "        i = j # bir sonraki char grubuna gec\n",
    "    return final_str\n",
    "\n",
    "harflerin_tekrarini_bulma(\"kkllllmmmmmnn\")"
   ]
  },
  {
   "cell_type": "markdown",
   "id": "323de80c-9616-4cc6-9246-9b64726efcd5",
   "metadata": {},
   "source": [
    "### KAYIP BASAMAK BULMA\n",
    "    input = \"10 - x = 4\"\n",
    "    output = \"6\"\n",
    "    input = \"1x * 11=121\"\n",
    "    output = \"1\"\n",
    "    input = \"1x0 /3 =50\"\n",
    "    output = \"5\""
   ]
  },
  {
   "cell_type": "code",
   "execution_count": 27,
   "id": "0dcba0bd-4565-45d7-b366-bd7c14584a83",
   "metadata": {},
   "outputs": [
    {
     "name": "stdout",
     "output_type": "stream",
     "text": [
      "yes\n"
     ]
    }
   ],
   "source": [
    "# eval metodu\n",
    "\n",
    "if eval(\"55\") == eval(\"50+5\"):\n",
    "    print(\"yes\")\n",
    "else:\n",
    "    print(\"no\")"
   ]
  },
  {
   "cell_type": "code",
   "execution_count": 36,
   "id": "b27dab26-e05d-43a3-beeb-6ea8130274a4",
   "metadata": {},
   "outputs": [],
   "source": [
    "def kayipBasamak(string):\n",
    "    # x i bul replace et ne ile ? 0-9\n",
    "    # bul \"=\"\n",
    "    # = ' den onceki kismi ve sonraki kismi karsilastir eval() metodu kullan\n",
    "    #return\n",
    "    \n",
    "    for i in range(10):\n",
    "         c = string.replace(\"x\",str(i))\n",
    "         x = string.index(\"=\")\n",
    "         if eval(c[:x]) == eval(c[x+1:]):    # eval(\"150 / 3\") == eval(\"50\")\n",
    "             return str(i)\n"
   ]
  },
  {
   "cell_type": "code",
   "execution_count": 46,
   "id": "ad65ff48-0813-4f79-ac19-b6bce3721b61",
   "metadata": {},
   "outputs": [
    {
     "name": "stdout",
     "output_type": "stream",
     "text": [
      "6\n",
      "1\n",
      "5\n",
      "8\n"
     ]
    }
   ],
   "source": [
    "print(kayipBasamak(\"10 - x = 4\"))\n",
    "print(kayipBasamak(\"1x * 11=121\"))\n",
    "print(kayipBasamak(\"1x0 /3 =50\"))\n",
    "print(kayipBasamak(\"x0 + 50  = 130\"))\n"
   ]
  },
  {
   "cell_type": "code",
   "execution_count": 29,
   "id": "f98b9338-cb6b-4c34-9c26-3cdd83bdd709",
   "metadata": {},
   "outputs": [
    {
     "name": "stdout",
     "output_type": "stream",
     "text": [
      "Java programlama dili, Java için harika bir dil.\n"
     ]
    }
   ],
   "source": [
    "metin = \"Python programlama dili, Python için harika bir dil.\"\n",
    "# \"Python\" kelimesini \"Java\" ile değiştir\n",
    "yeni_metin = metin.replace(\"Python\", \"Java\")\n",
    "print(yeni_metin)  \n",
    "# Çıktı: \"Java programlama dili, Java için harika bir dil.\"\n"
   ]
  },
  {
   "cell_type": "code",
   "execution_count": 31,
   "id": "3c38c155-8ac7-4fc5-a5da-863dc96cb2e1",
   "metadata": {},
   "outputs": [
    {
     "name": "stdout",
     "output_type": "stream",
     "text": [
      "7\n"
     ]
    }
   ],
   "source": [
    "metin = \"Python programlama dili\"\n",
    "# \"programlama\" kelimesinin başlangıç indeksini bul\n",
    "indeks = metin.index(\"programlama\")\n",
    "print(indeks)  \n",
    "# Çıktı: 7\n"
   ]
  },
  {
   "cell_type": "code",
   "execution_count": 37,
   "id": "b10c5883-240d-47a1-b54d-317fb86e6871",
   "metadata": {},
   "outputs": [
    {
     "name": "stdout",
     "output_type": "stream",
     "text": [
      "100 + 5 = 110\n",
      "101 + 5 = 110\n",
      "102 + 5 = 110\n",
      "103 + 5 = 110\n",
      "104 + 5 = 110\n",
      "105 + 5 = 110\n"
     ]
    },
    {
     "data": {
      "text/plain": [
       "'5'"
      ]
     },
     "execution_count": 37,
     "metadata": {},
     "output_type": "execute_result"
    }
   ],
   "source": [
    "def basamak_sorusu_coz(problem_str):\n",
    "    # x i bul replace et\n",
    "\n",
    "    for i in range(10):\n",
    "        problem_buffer = problem_str.replace(\"x\",str(i))  # x in yerine tum rakamlari koy\n",
    "        print(problem_buffer)                             # hepsini denemeye ayarla\n",
    "        esittir_indeksi = problem_str.index(\"=\")\n",
    "        if eval(problem_buffer[:esittir_indeksi]) == eval(problem_buffer[esittir_indeksi+1:]):\n",
    "            return str(i)\n",
    "\n",
    "\n",
    "basamak_sorusu_coz(\"10x + 5 = 110\")"
   ]
  },
  {
   "cell_type": "code",
   "execution_count": null,
   "id": "dd0eb8d9-0780-4282-9d11-f2f59b1a92c0",
   "metadata": {},
   "outputs": [],
   "source": []
  }
 ],
 "metadata": {
  "kernelspec": {
   "display_name": "Python 3 (ipykernel)",
   "language": "python",
   "name": "python3"
  },
  "language_info": {
   "codemirror_mode": {
    "name": "ipython",
    "version": 3
   },
   "file_extension": ".py",
   "mimetype": "text/x-python",
   "name": "python",
   "nbconvert_exporter": "python",
   "pygments_lexer": "ipython3",
   "version": "3.12.4"
  }
 },
 "nbformat": 4,
 "nbformat_minor": 5
}

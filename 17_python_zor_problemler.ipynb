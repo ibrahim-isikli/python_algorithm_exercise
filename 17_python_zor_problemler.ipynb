{
 "cells": [
  {
   "cell_type": "markdown",
   "id": "9f58b865-286d-4c25-9672-3e248d0073de",
   "metadata": {},
   "source": [
    "### ARRAY ROTASYONU\n",
    "    input = [2,3,4,5]\n",
    "    output = 4523\n",
    "    input = [4,5,6,7,8,9,10,11,12,13]\n",
    "    output = 89101112134567"
   ]
  },
  {
   "cell_type": "code",
   "execution_count": 51,
   "id": "a22929a1-a0d7-4d7d-b6b1-8b6aa38ba91c",
   "metadata": {},
   "outputs": [],
   "source": [
    "def rotateArray(array):\n",
    "    # arrayin ilk elemanini bul. bu deger bizim eski baslangic degerimiz\n",
    "    # output arrayin ilk elemanini bul\n",
    "    # bizim arrayimizin ilk elemani eski baslangic indeksi kabul et\n",
    "    #while dongusu ve counter ata counter++\n",
    "    #return\n",
    "\n",
    "    eski_baslangic = array[0] # 2\n",
    "    yeni_baslangic = [str(array[eski_baslangic])] # 4      yeni_baslangic = 4,\n",
    "    count = eski_baslangic + 1 # 3\n",
    "    length = len(array)  # 4\n",
    "\n",
    "    while count % length != eski_baslangic:    # 3 % 4 = 3 != 2                                        # 4%4 = 0 != 2                # 5%4 = 1 != 2                       # 6%4 == 2\n",
    "        yeni_baslangic.append(str(array[count%length]))   # array[3] append -> yeni_baslangic = 4,5    # yeni_baslangic = 4,5,2      # yeni_baslangic = 4,5,2,3\n",
    "        count += 1                                        # cnt = 4                                    # cnt = 5                     # cnt = 6\n",
    "    return \"\".join(yeni_baslangic)"
   ]
  },
  {
   "cell_type": "code",
   "execution_count": 53,
   "id": "4ced283f-fb4c-443c-8409-1166598fb46a",
   "metadata": {},
   "outputs": [
    {
     "data": {
      "text/plain": [
       "'4523'"
      ]
     },
     "execution_count": 53,
     "metadata": {},
     "output_type": "execute_result"
    }
   ],
   "source": [
    "list = [2,3,4,5]\n",
    "rotateArray(list)"
   ]
  },
  {
   "cell_type": "code",
   "execution_count": 49,
   "id": "9423913f-9681-4ebd-ac7c-c4df2a7d33db",
   "metadata": {},
   "outputs": [
    {
     "data": {
      "text/plain": [
       "'89101112134567'"
      ]
     },
     "execution_count": 49,
     "metadata": {},
     "output_type": "execute_result"
    }
   ],
   "source": [
    "list = [4,5,6,7,8,9,10,11,12,13]\n",
    "rotateArray(list)"
   ]
  },
  {
   "cell_type": "code",
   "execution_count": 21,
   "id": "e26332cd-94c4-4288-9169-7e522b5a55c5",
   "metadata": {},
   "outputs": [
    {
     "name": "stdout",
     "output_type": "stream",
     "text": [
      "ilk_baslangic_indeksi:  2\n",
      "sonraki_baslangic_indeksi:  ['4']\n",
      "count:  3\n",
      "length:  4\n"
     ]
    },
    {
     "data": {
      "text/plain": [
       "'4523'"
      ]
     },
     "execution_count": 21,
     "metadata": {},
     "output_type": "execute_result"
    }
   ],
   "source": [
    "# input = [2,3,4,5]\n",
    "# output = 4523\n",
    "# input = [4,5,6,7,8,9,10,11,12,13]\n",
    "# output = 89101112134567\n",
    "\n",
    "def array_rotasyonu(array):\n",
    "    # arrayin ilk elemanini bul\n",
    "    ilk_baslangic_index = array[0]\n",
    "    sonraki_baslangic_index = [str(array[ilk_baslangic_index])]\n",
    "    print(\"ilk_baslangic_indeksi: \",ilk_baslangic_index)\n",
    "    print(\"sonraki_baslangic_indeksi: \",sonraki_baslangic_index)\n",
    "    count = ilk_baslangic_index + 1\n",
    "    print(\"count: \",count)\n",
    "    length = len(array)\n",
    "    print(\"length: \",length)\n",
    "    # nasil dusuneceksin\n",
    "    #indeksleri su sekilde siralaman gerekiyor 2 -> 3 -> 0 -> 1\n",
    "    # 2 zten eklendi sirada -> 3 -> 0 -> 1 var\n",
    "    # kurgu => sonraki_baslangic.append(array[3]) => sonraki_baslangic.append(array[0])=> sonraki_baslangic.append(array[1])\n",
    "    # count = 3 idi length = 4 idi boyle bir kurgu olusturacagım\n",
    "    # 3%4 = 3\n",
    "    # 4%4 = 0\n",
    "    # 5%4 = 1\n",
    "    #bu is gorur\n",
    "\n",
    "    # sonraki_baslangic_index.append(str[array[count%len]])\n",
    "    # count + = 1\n",
    "\n",
    "    # ama bir dongu icinde olmali\n",
    "    # 6%4 =2 buraya kadar donmeli\n",
    "\n",
    "    # while (count%length != 2)\n",
    "\n",
    "    \n",
    "    while count % length != ilk_baslangic_index:    \n",
    "        sonraki_baslangic_index.append(str(array[count%length]))\n",
    "        count += 1\n",
    "    return \"\".join(sonraki_baslangic_index)\n",
    "\n",
    "\n",
    "\n",
    "array_rotasyonu([2,3,4,5])\n",
    "    "
   ]
  },
  {
   "cell_type": "markdown",
   "id": "3de70c67-2542-4a18-9727-0c5db6e6f12f",
   "metadata": {},
   "source": [
    "### ARRAAY CIFTLERİ\n",
    "    input = [5,6,6,5,3,3] \n",
    "    output = \"3,3\"\n",
    "    input = [7,8,8,7,9,1,1,9]\n",
    "    output = \"ok\"\n",
    "\n",
    "    ciftlerin yansimasi var mi diye bakkiyoruz ,yansimasi olmayani return\n",
    "    input = [5,6,6,5,3,3] \n",
    "    56 <-> 65   33 X\n",
    "    input = [7,8,8,7,9,1,1,9]\n",
    "    78 <-> 87 91 <-> 19"
   ]
  },
  {
   "cell_type": "code",
   "execution_count": 199,
   "id": "5a65fc7b-540d-4192-8b60-8019f71ba272",
   "metadata": {},
   "outputs": [],
   "source": [
    "def arrayCouple(array):\n",
    "    # arrayleri cift cift ayir\n",
    "    # [5,6,6,5,3,3]\n",
    "    # indeks =>  [(0 + 1),(2 + 3),(4 + 5)]\n",
    "    same_counter = 0\n",
    "    buffer = []\n",
    "    for i in range(0,len(array),2):\n",
    "        buffer.append(str(array[i]) + str(array[i+1]))\n",
    "    print(buffer)\n",
    "    # bu ciftin yansimasi bir sonraki indekste var mi\n",
    "    # buffer[0][::] == buffer[1][::-1]\n",
    "    for i in range(0,len(buffer)-1,2):\n",
    "        print(\" {} == {} \".format(buffer[i][::],buffer[i+1][::-1]))\n",
    "        if buffer[i][::] == buffer[i+1][::-1]:\n",
    "             same_counter +=1\n",
    "        else:\n",
    "            return buffer[i]\n",
    "    if same_counter == 2:\n",
    "        return \"ok\""
   ]
  },
  {
   "cell_type": "code",
   "execution_count": 201,
   "id": "a377e459-0005-47be-832c-241ee5f473bd",
   "metadata": {},
   "outputs": [
    {
     "name": "stdout",
     "output_type": "stream",
     "text": [
      "['56', '65', '33']\n",
      " 56 == 56 \n",
      "None\n"
     ]
    }
   ],
   "source": [
    "print(arrayCouple([5,6,6,5,3,3]))"
   ]
  },
  {
   "cell_type": "code",
   "execution_count": 189,
   "id": "e09bafe0-edbc-46f7-8a7e-de0468dfad1a",
   "metadata": {},
   "outputs": [
    {
     "name": "stdout",
     "output_type": "stream",
     "text": [
      "['78', '87', '91', '19']\n",
      " 78 == 78 \n",
      " 91 == 91 \n",
      "ok\n"
     ]
    }
   ],
   "source": [
    "\n",
    "print(arrayCouple([7,8,8,7,9,1,1,9]))"
   ]
  },
  {
   "cell_type": "code",
   "execution_count": 258,
   "id": "76882ecd-f241-46f1-93e2-4f86e86ee0bb",
   "metadata": {},
   "outputs": [
    {
     "name": "stdout",
     "output_type": "stream",
     "text": [
      "['7 8', '8 7', '9 1', '1 9', '']\n",
      "['5 6', '6 5', '3 3', '']\n"
     ]
    },
    {
     "data": {
      "text/plain": [
       "'3,3'"
      ]
     },
     "execution_count": 258,
     "metadata": {},
     "output_type": "execute_result"
    }
   ],
   "source": [
    "def arrayCouple(array):\n",
    "     # stringe cevir\n",
    "     # reverse pair olmayanlari depola\n",
    "     # eger depo bos ise \"ok\" return\n",
    "     # eger depo dolu ise depo return\n",
    "\n",
    "    # stringe cevir\n",
    "     new = \"\"\n",
    "     for k in range(0,len(array)):\n",
    "        new += str(array[k])+ \" \"\n",
    "        if k % 2 == 1:\n",
    "             new+= \",\"\n",
    "     new = new.split(\" ,\")\n",
    "     print(new)\n",
    "\n",
    "     #reverse pair olmayanlari depola\n",
    "     depo = []\n",
    "     for i in new:\n",
    "         if i[::-1] not in new: # eger i nin tersi new icinde yoksa\n",
    "                    for l in i.split():\n",
    "                        depo.append(l)\n",
    "         elif i == i[::-1] and new.count(i) < 2:\n",
    "             for l in i.split():\n",
    "                 depo.append(l)\n",
    "\n",
    "     if depo == []:\n",
    "        return \"ok\"\n",
    "     return \",\".join(depo)\n",
    "\n",
    "     \n",
    "\n",
    "        \n",
    "        \n",
    "arrayCouple([7,8,8,7,9,1,1,9])\n",
    "arrayCouple([5,6,6,5,3,3])"
   ]
  },
  {
   "cell_type": "code",
   "execution_count": 264,
   "id": "1108023a-a9ce-433c-b171-0d821dbbcb7a",
   "metadata": {},
   "outputs": [
    {
     "name": "stdin",
     "output_type": "stream",
     "text": [
      " 34\n"
     ]
    },
    {
     "name": "stdout",
     "output_type": "stream",
     "text": [
      "Not Weird\n"
     ]
    }
   ],
   "source": []
  },
  {
   "cell_type": "code",
   "execution_count": null,
   "id": "934bc69f-8626-4c58-b478-4991f1580bf8",
   "metadata": {},
   "outputs": [],
   "source": []
  },
  {
   "cell_type": "code",
   "execution_count": null,
   "id": "6427053c-204a-4c3c-b175-a0c9a9e53132",
   "metadata": {},
   "outputs": [],
   "source": []
  }
 ],
 "metadata": {
  "kernelspec": {
   "display_name": "Python 3 (ipykernel)",
   "language": "python",
   "name": "python3"
  },
  "language_info": {
   "codemirror_mode": {
    "name": "ipython",
    "version": 3
   },
   "file_extension": ".py",
   "mimetype": "text/x-python",
   "name": "python",
   "nbconvert_exporter": "python",
   "pygments_lexer": "ipython3",
   "version": "3.12.4"
  }
 },
 "nbformat": 4,
 "nbformat_minor": 5
}

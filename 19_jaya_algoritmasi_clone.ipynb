{
 "cells": [
  {
   "cell_type": "code",
   "execution_count": 1,
   "id": "bd265561-643c-4bd9-84a4-8f4136992869",
   "metadata": {},
   "outputs": [
    {
     "name": "stdout",
     "output_type": "stream",
     "text": [
      "Best Solution: [ 0.01295673  0.01354987 -0.01051009  0.02151001  0.01983173]\n",
      "Best Value: 0.001317915503542274\n"
     ]
    }
   ],
   "source": [
    "import numpy as np\n",
    "\n",
    "def jaya_algorithm(obj_function, dim, bounds, population_size, max_iter):\n",
    "    \"\"\"\n",
    "    Jaya Algorithm for optimization.\n",
    "    \n",
    "    Parameters:\n",
    "    obj_function: function\n",
    "        The objective function to be optimized (minimized).\n",
    "    dim: int\n",
    "        Number of dimensions of the problem.\n",
    "    bounds: list of tuples\n",
    "        List of (min, max) bounds for each dimension.\n",
    "    population_size: int\n",
    "        Number of candidate solutions in the population.\n",
    "    max_iter: int\n",
    "        Maximum number of iterations.\n",
    "        \n",
    "    Returns:\n",
    "    tuple: best_solution, best_value\n",
    "        The best solution found and its objective value.\n",
    "    \"\"\"\n",
    "    # Initialize the population randomly within the bounds\n",
    "    population = np.random.uniform(\n",
    "        [b[0] for b in bounds],\n",
    "        [b[1] for b in bounds],\n",
    "        (population_size, dim)\n",
    "    )\n",
    "    \n",
    "    for iteration in range(max_iter):\n",
    "        # Evaluate the fitness of the population\n",
    "        fitness = np.apply_along_axis(obj_function, 1, population)\n",
    "        \n",
    "        # Identify the best and worst solutions\n",
    "        best_idx = np.argmin(fitness)\n",
    "        worst_idx = np.argmax(fitness)\n",
    "        best_solution = population[best_idx]\n",
    "        worst_solution = population[worst_idx]\n",
    "        \n",
    "        # Update each candidate solution\n",
    "        for i in range(population_size):\n",
    "            r1, r2 = np.random.rand(), np.random.rand()\n",
    "            new_solution = (\n",
    "                population[i]\n",
    "                + r1 * (best_solution - abs(population[i]))\n",
    "                - r2 * (worst_solution - abs(population[i]))\n",
    "            )\n",
    "            # Ensure the new solution is within bounds\n",
    "            new_solution = np.clip(new_solution, [b[0] for b in bounds], [b[1] for b in bounds])\n",
    "            population[i] = new_solution\n",
    "        \n",
    "    # Return the best solution and its fitness value\n",
    "    best_value = obj_function(best_solution)\n",
    "    return best_solution, best_value\n",
    "\n",
    "\n",
    "# Example usage: Minimize the sphere function\n",
    "def sphere_function(x):\n",
    "    return np.sum(x**2)\n",
    "\n",
    "# Problem setup\n",
    "dim = 5\n",
    "bounds = [(-5, 5) for _ in range(dim)]\n",
    "population_size = 20\n",
    "max_iter = 100\n",
    "\n",
    "best_solution, best_value = jaya_algorithm(sphere_function, dim, bounds, population_size, max_iter)\n",
    "print(f\"Best Solution: {best_solution}\")\n",
    "print(f\"Best Value: {best_value}\")\n",
    "#test commit\n",
    "# test test"
   ]
  },
  {
   "cell_type": "code",
   "execution_count": null,
   "id": "cd08f4c8-20ed-460a-9218-6bc2397b06d7",
   "metadata": {},
   "outputs": [],
   "source": []
  }
 ],
 "metadata": {
  "kernelspec": {
   "display_name": "Python 3 (ipykernel)",
   "language": "python",
   "name": "python3"
  },
  "language_info": {
   "codemirror_mode": {
    "name": "ipython",
    "version": 3
   },
   "file_extension": ".py",
   "mimetype": "text/x-python",
   "name": "python",
   "nbconvert_exporter": "python",
   "pygments_lexer": "ipython3",
   "version": "3.12.7"
  }
 },
 "nbformat": 4,
 "nbformat_minor": 5
}

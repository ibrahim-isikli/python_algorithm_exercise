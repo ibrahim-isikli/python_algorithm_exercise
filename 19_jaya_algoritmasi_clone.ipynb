{
 "cells": [
  {
   "cell_type": "code",
   "execution_count": 35,
   "id": "bd265561-643c-4bd9-84a4-8f4136992869",
   "metadata": {},
   "outputs": [
    {
     "name": "stdout",
     "output_type": "stream",
     "text": [
      "Best Solution: [-0.00055759 -0.00033873 -0.00044481  0.00104473  0.00012049]\n",
      "Best Value: 1.7294752230549902e-06\n"
     ]
    }
   ],
   "source": [
    "import numpy as np\n",
    "\n",
    "def jaya_algorithm(obj_function, dim, bounds, population_size, max_iter):\n",
    "   \n",
    "    # cozum uzayinin sinirlarina gore baslangic populasyonu olustur\n",
    "    population = np.random.uniform(\n",
    "        [b[0] for b in bounds],\n",
    "        [b[1] for b in bounds],\n",
    "        (population_size, dim)\n",
    "    )\n",
    "    \n",
    "    for iteration in range(max_iter):\n",
    "        # populasyonun uygunluk degerlerini belirle (her birinin fitness value'su)\n",
    "        fitness = np.apply_along_axis(obj_function, 1, population)\n",
    "        \n",
    "        # en iyi ve en kotu cozumu belirle\n",
    "        best_idx = np.argmin(fitness)\n",
    "        worst_idx = np.argmax(fitness)\n",
    "        best_solution = population[best_idx]\n",
    "        worst_solution = population[worst_idx]\n",
    "        \n",
    "        # cozumleri formule gore guncelle\n",
    "        # x_new = x_old + r1*(x_best-abs(x_old)) - r2*(x_worst-abs(x_old))\n",
    "        for i in range(population_size):\n",
    "            r1, r2 = np.random.rand(), np.random.rand()\n",
    "            new_solution = (\n",
    "                population[i]\n",
    "                + r1 * (best_solution - abs(population[i]))\n",
    "                - r2 * (worst_solution - abs(population[i]))\n",
    "            )\n",
    "            # yeni cozum, cozum sinirlari icerisinde mi kontrol et\n",
    "            new_solution = np.clip(new_solution, [b[0] for b in bounds], [b[1] for b in bounds])\n",
    "            # Yeni çözüm eski cozumden iyiyse güncelle\n",
    "            if obj_function(new_solution) < obj_function(population[i]):\n",
    "             population[i] = new_solution\n",
    "\n",
    "\n",
    "    best_value = obj_function(best_solution)\n",
    "    return best_solution, best_value\n",
    "\n",
    "\n",
    "# Ornek amac fonksiyonlarimiz (fitness func)\n",
    "\n",
    "# sphere en klasik optimizasyon problemidir\n",
    "# kisaca f(x) = ∑ (x_i)^2\n",
    "# bunu da bir minimizasyon problemi olarak degerlendiriyoruz 0 yakinsiyoruz\n",
    "def sphere_function(x):\n",
    "    return np.sum(x**2)\n",
    "\n",
    "\n",
    "sphere_function_dim = 5\n",
    "bounds = [(-5, 5) for _ in range(sphere_function_dim)]\n",
    "population_size = 20\n",
    "max_iter = 100\n",
    "\n",
    "best_solution, best_value = jaya_algorithm(sphere_function, sphere_function_dim, bounds, population_size, max_iter)\n",
    "print(f\"Best Solution: {best_solution}\")\n",
    "print(f\"Best Value: {best_value}\")\n"
   ]
  },
  {
   "cell_type": "code",
   "execution_count": null,
   "id": "cd08f4c8-20ed-460a-9218-6bc2397b06d7",
   "metadata": {},
   "outputs": [],
   "source": []
  }
 ],
 "metadata": {
  "kernelspec": {
   "display_name": "Python 3 (ipykernel)",
   "language": "python",
   "name": "python3"
  },
  "language_info": {
   "codemirror_mode": {
    "name": "ipython",
    "version": 3
   },
   "file_extension": ".py",
   "mimetype": "text/x-python",
   "name": "python",
   "nbconvert_exporter": "python",
   "pygments_lexer": "ipython3",
   "version": "3.12.4"
  }
 },
 "nbformat": 4,
 "nbformat_minor": 5
}

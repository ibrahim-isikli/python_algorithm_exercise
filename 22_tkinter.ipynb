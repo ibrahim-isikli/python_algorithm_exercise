{
 "cells": [
  {
   "cell_type": "markdown",
   "id": "2c1ae9c6-b207-40f8-b5ef-ec1e746573f3",
   "metadata": {},
   "source": [
    "### pencere olusturma"
   ]
  },
  {
   "cell_type": "code",
   "execution_count": 16,
   "id": "de8a89ce-d917-4bca-b338-0a7e447d2da7",
   "metadata": {},
   "outputs": [],
   "source": [
    "import tkinter as tk\n",
    "\n",
    "\n",
    " #pencere init\n",
    "root = tk.Tk()\n",
    "root.title(\"pencere basligi\")\n",
    "root.geometry(\"200x200\")\n",
    "\n",
    "\n",
    "# label olusturma\n",
    "\n",
    "label = tk.Label(root, text=\"label yazisi\", font=(\"Arial\",14))\n",
    "label.pack(pady=20)\n",
    "\n",
    "root.mainloop()"
   ]
  },
  {
   "cell_type": "markdown",
   "id": "c1737c8c-47a3-4479-b6c1-be52f6b91d35",
   "metadata": {},
   "source": [
    "### buton olusturma"
   ]
  },
  {
   "cell_type": "code",
   "execution_count": 57,
   "id": "adff6aaf-f3a6-4a7a-b956-6635300af963",
   "metadata": {},
   "outputs": [],
   "source": [
    "import tkinter as tk\n",
    "\n",
    "root = tk.Tk()\n",
    "root.title(\"pencere basligi\")\n",
    "root.geometry(\"200x200\")\n",
    "\n",
    "label = tk.Label(root, text=\"buton gelecek\", font=(\"Arial\",14))\n",
    "label.pack(pady=40)\n",
    "\n",
    "buton = tk.Button(root, text=\"tikla\",font=(\"Arial\",20))\n",
    "buton.pack();\n",
    "\n",
    "root.mainloop()"
   ]
  },
  {
   "cell_type": "markdown",
   "id": "5ad2d906-073e-4db6-961d-b0c938ce1209",
   "metadata": {},
   "source": [
    "### canvas"
   ]
  },
  {
   "cell_type": "code",
   "execution_count": 56,
   "id": "a771f572-66cc-443d-b070-31b37365a121",
   "metadata": {},
   "outputs": [],
   "source": [
    "import tkinter as tk \n",
    "\n",
    "root = tk.Tk()\n",
    "root.title(\"pencere\")\n",
    "root.geometry(\"200x200\")\n",
    "\n",
    "label = tk.Label(root,text=\"set test\",font=(\"Arial\",14))\n",
    "label.pack()\n",
    "\n",
    "canvas = tk.Canvas(root,bg=\"grey\",width=100,height=10)\n",
    "canvas.pack()\n",
    "\n",
    "buton = tk.Button(root,text=\"tikla\",font=(\"Arial\",20))\n",
    "buton.pack()\n",
    "\n",
    "canvas = tk.Canvas(root,bg=\"grey\",width=100,height=10)\n",
    "canvas.pack()\n",
    "\n",
    "root.mainloop()"
   ]
  },
  {
   "cell_type": "markdown",
   "id": "86230371-7c9d-4d22-9adc-97d394965c30",
   "metadata": {},
   "source": [
    "### butona islev atama"
   ]
  },
  {
   "cell_type": "code",
   "execution_count": 64,
   "id": "1418826c-89ea-4eab-ba52-06153b5629a6",
   "metadata": {},
   "outputs": [],
   "source": [
    "import tkinter as tk\n",
    "\n",
    "def butona_tiklandi():\n",
    "    label.config(text=\"Butona Tıklandı!\")\n",
    "\n",
    "root = tk.Tk()\n",
    "root.title(\"Butonlu Tkinter\")\n",
    "root.geometry(\"300x200\")\n",
    "\n",
    "label = tk.Label(root, text=\"Merhaba!\", font=(\"Arial\", 14))\n",
    "label.pack(pady=20)\n",
    "\n",
    "buton = tk.Button(root, text=\"Tıkla\", font=(\"Arial\", 12), command=butona_tiklandi)\n",
    "buton.pack()\n",
    "\n",
    "root.mainloop()\n"
   ]
  },
  {
   "cell_type": "code",
   "execution_count": 69,
   "id": "29719b99-2032-4451-b020-27c4da84029d",
   "metadata": {},
   "outputs": [],
   "source": [
    "\n",
    "import tkinter as tk \n",
    "\n",
    "def buton_tikla():\n",
    "    label.config(text=\"butona tiklandi\")\n",
    "\n",
    "root = tk.Tk()\n",
    "root.title(\"pencere\")\n",
    "root.geometry(\"200x200\")\n",
    "\n",
    "label = tk.Label(root,text=\"set test\",font=(\"Arial\",14))\n",
    "label.pack()\n",
    "\n",
    "canvas = tk.Canvas(root,bg=\"grey\",width=100,height=10)\n",
    "canvas.pack()\n",
    "\n",
    "buton = tk.Button(root,text=\"tikla\",font=(\"Arial\",20),command=buton_tikla)\n",
    "buton.pack()\n",
    "\n",
    "canvas = tk.Canvas(root,bg=\"grey\",width=100,height=10)\n",
    "canvas.pack()\n",
    "\n",
    "root.mainloop()\n",
    "\n"
   ]
  },
  {
   "cell_type": "code",
   "execution_count": 71,
   "id": "e21bc2bb-3a55-471c-a645-1e825b69412a",
   "metadata": {},
   "outputs": [],
   "source": [
    "import tkinter as tk\n",
    "\n",
    "def hesapla(islem):\n",
    "    try:\n",
    "        sayi1 = float(entry1.get())  # İlk sayıyı al\n",
    "        sayi2 = float(entry2.get())  # İkinci sayıyı al\n",
    "        \n",
    "        if islem == \"+\":\n",
    "            sonuc = sayi1 + sayi2\n",
    "        elif islem == \"-\":\n",
    "            sonuc = sayi1 - sayi2\n",
    "        elif islem == \"*\":\n",
    "            sonuc = sayi1 * sayi2\n",
    "        elif islem == \"/\":\n",
    "            sonuc = sayi1 / sayi2 if sayi2 != 0 else \"Hata: Bölme Sıfır!\"\n",
    "        \n",
    "        label_sonuc.config(text=f\"Sonuç: {sonuc}\")  # Sonucu ekranda göster\n",
    "    except ValueError:\n",
    "        label_sonuc.config(text=\"Hata: Geçersiz sayı!\")\n",
    "\n",
    "# Ana pencere\n",
    "root = tk.Tk()\n",
    "root.title(\"Basit Hesap Makinesi\")\n",
    "root.geometry(\"300x300\")\n",
    "\n",
    "# Kullanıcıdan giriş almak için Entry kutuları\n",
    "entry1 = tk.Entry(root, font=(\"Arial\", 12))\n",
    "entry1.pack(pady=5)\n",
    "\n",
    "entry2 = tk.Entry(root, font=(\"Arial\", 12))\n",
    "entry2.pack(pady=5)\n",
    "\n",
    "# Dört işlem butonları\n",
    "tk.Button(root, text=\"+\", font=(\"Arial\", 12), command=lambda: hesapla(\"+\")).pack(pady=5)\n",
    "tk.Button(root, text=\"-\", font=(\"Arial\", 12), command=lambda: hesapla(\"-\")).pack(pady=5)\n",
    "tk.Button(root, text=\"*\", font=(\"Arial\", 12), command=lambda: hesapla(\"*\")).pack(pady=5)\n",
    "tk.Button(root, text=\"/\", font=(\"Arial\", 12), command=lambda: hesapla(\"/\")).pack(pady=5)\n",
    "\n",
    "# Sonucu gösterecek etiket\n",
    "label_sonuc = tk.Label(root, text=\"Sonuç: \", font=(\"Arial\", 14))\n",
    "label_sonuc.pack(pady=20)\n",
    "\n",
    "root.mainloop()\n"
   ]
  },
  {
   "cell_type": "code",
   "execution_count": null,
   "id": "e096b09e-a654-43a5-b56f-f520aab10bd5",
   "metadata": {},
   "outputs": [],
   "source": []
  }
 ],
 "metadata": {
  "kernelspec": {
   "display_name": "Python [conda env:base] *",
   "language": "python",
   "name": "conda-base-py"
  },
  "language_info": {
   "codemirror_mode": {
    "name": "ipython",
    "version": 3
   },
   "file_extension": ".py",
   "mimetype": "text/x-python",
   "name": "python",
   "nbconvert_exporter": "python",
   "pygments_lexer": "ipython3",
   "version": "3.12.7"
  }
 },
 "nbformat": 4,
 "nbformat_minor": 5
}
